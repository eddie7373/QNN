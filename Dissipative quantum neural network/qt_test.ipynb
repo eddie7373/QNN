{
 "cells": [
  {
   "cell_type": "code",
   "execution_count": 2,
   "id": "cb742519-0726-45a7-8f8b-cad01b52d8d4",
   "metadata": {},
   "outputs": [],
   "source": [
    "# math related packages\n",
    "import scipy as sc\n",
    "import qutip as qt\n",
    "# further packages\n",
    "from time import time\n",
    "from random import sample\n",
    "import matplotlib.pyplot as plt\n",
    "import numpy as np\n",
    "from sklearn.model_selection import train_test_split\n",
    "from sklearn import metrics\n",
    "\n",
    "\n",
    "# ket states\n",
    "qubit0 = qt.basis(2,0)\n",
    "qubit1 = qt.basis(2,1)\n",
    "# density matrices\n",
    "qubit0mat = qubit0 * qubit0.dag() # it is also possible to use ket2dm(qubit0) \n",
    "qubit1mat = qubit1 * qubit1.dag() # it is also possible to use ket2dm(qubit1)\n",
    "\n",
    "\n",
    "\n",
    "def sigmoid(s,t,u):\n",
    "    return 1/(1+np.exp(-(s/t)**u))*((np.pi)/2)\n",
    "def ver_sigmoid(x,y,gamma):\n",
    "    return x*(-np.log((np.pi/(2*(np.arccos(y**(1/2)))))-1))**(1/gamma)\n",
    "'''\n",
    "def sigmoid(x):\n",
    "    return 1/(1+np.exp(-x))*((np.pi)/2)\n",
    "def ver_sigmoid(y):\n",
    "    return -np.log((np.pi/(2*(np.arccos(y**(1/2)))))-1)\n",
    "'''\n",
    "def qb_trans(a):# transform normal data to qubit(Bloch sphere representation)\n",
    "    qubit0 = qt.basis(2,0)\n",
    "    qubit1 = qt.basis(2,1)\n",
    "    r=np.cos(a)*qubit0+np.sin(a)*qubit1\n",
    "    return r\n",
    "\n",
    "def partialTraceKeep(obj, keep): # generalisation of ptrace(), partial trace via \"to-keep\" list\n",
    "    # return partial trace:\n",
    "    res = obj;\n",
    "    if len(keep) != len(obj.dims[0]):\n",
    "        res = obj.ptrace(keep);\n",
    "    return res;\n",
    "\n",
    "def partialTraceRem(obj, rem): # partial trace via \"to-remove\" list\n",
    "    # prepare keep list\n",
    "    rem.sort(reverse=True)\n",
    "    keep = list(range(len(obj.dims[0])))\n",
    "    for x in rem:\n",
    "        keep.pop(x)\n",
    "    res = obj;\n",
    "    # return partial trace:\n",
    "    if len(keep) != len(obj.dims[0]):\n",
    "        res = obj.ptrace(keep);\n",
    "    return res;\n",
    "def swappedOp(obj, i, j):\n",
    "    if i==j: return obj\n",
    "    numberOfQubits = len(obj.dims[0])\n",
    "    permute = list(range(numberOfQubits))\n",
    "    permute[i], permute[j] = permute[j], permute[i]\n",
    "    return obj.permute(permute)\n",
    "def tensoredId(N):\n",
    "    #Make Identity matrix\n",
    "    res = qt.qeye(2**N)\n",
    "    #Make dims list\n",
    "    dims = [2 for i in range(N)]\n",
    "    dims = [dims.copy(), dims.copy()]\n",
    "    res.dims = dims\n",
    "    #Return\n",
    "    return res\n",
    "\n",
    "def tensoredQubit0(N):\n",
    "    #Make Qubit matrix\n",
    "    res = qt.fock(2**N).proj() #for some reason ran faster than fock_dm(2**N) in tests\n",
    "    #Make dims list\n",
    "    dims = [2 for i in range(N)]\n",
    "    dims = [dims.copy(), dims.copy()]\n",
    "    res.dims = dims\n",
    "    #Return\n",
    "    return res\n",
    "\n",
    "def unitariesCopy(unitaries): # deep copyof a list of unitaries\n",
    "    newUnitaries = []\n",
    "    for layer in unitaries:\n",
    "        newLayer = []\n",
    "        for unitary in layer:\n",
    "            newLayer.append(unitary.copy())\n",
    "        newUnitaries.append(newLayer)\n",
    "    return newUnitaries\n",
    "\n",
    "def randomQubitUnitary(numQubits): # alternatively, use functions rand_unitary and rand_unitary_haar\n",
    "    dim = 2**numQubits\n",
    "    #Make unitary matrix\n",
    "    res = np.random.normal(size=(dim,dim)) + 1j * np.random.normal(size=(dim,dim))\n",
    "    res = sc.linalg.orth(res)\n",
    "    res = qt.Qobj(res)\n",
    "    #Make dims list\n",
    "    dims = [2 for i in range(numQubits)]\n",
    "    dims = [dims.copy(), dims.copy()]\n",
    "    res.dims = dims\n",
    "    #Return\n",
    "    return res\n",
    "\n",
    "def randomQubitState(numQubits): # alternatively, use functions rand_ket and rand_ket_haar\n",
    "    dim = 2**numQubits\n",
    "    #Make normalized state\n",
    "    res = np.random.normal(size=(dim,1)) + 1j * np.random.normal(size=(dim,1))\n",
    "    res = (1/sc.linalg.norm(res)) * res\n",
    "    res = qt.Qobj(res)\n",
    "    #Make dims list\n",
    "    dims1 = [2 for i in range(numQubits)]\n",
    "    dims2 = [1 for i in range(numQubits)]\n",
    "    dims = [dims1, dims2]\n",
    "    res.dims = dims\n",
    "    #Return\n",
    "    return res\n",
    "\n",
    "def randomTrainingData(unitary, N): # generating training data based on a unitary\n",
    "    numQubits = len(unitary.dims[0])\n",
    "    trainingData=[]\n",
    "    #Create training data pairs\n",
    "    for i in range(N):\n",
    "        t = randomQubitState(numQubits)\n",
    "        ut = unitary*t\n",
    "        trainingData.append([t,ut])\n",
    "    #Return\n",
    "    return trainingData"
   ]
  },
  {
   "cell_type": "code",
   "execution_count": 2,
   "id": "809e0679-20d9-4267-9274-167e5d827c27",
   "metadata": {},
   "outputs": [],
   "source": [
    "#def randomNetwork(qnnArch, numTrainingPairs):\n",
    "def randomNetwork(qnnArch):\n",
    "    assert qnnArch[0]==qnnArch[-1], \"Not a valid QNN-Architecture.\"\n",
    "    \n",
    "    #Create the targeted network unitary and corresponding training data\n",
    "    '''\n",
    "    networkUnitary = randomQubitUnitary(qnnArch[-1])\n",
    "    print(networkUnitary)\n",
    "    networkTrainingData = randomTrainingData(networkUnitary, numTrainingPairs)\n",
    "    print(networkTrainingData)\n",
    "    '''\n",
    "    #Create the initial random perceptron unitaries for the network\n",
    "    networkUnitaries = [[]]\n",
    "    for l in range(1, len(qnnArch)):\n",
    "        #print(l)\n",
    "        numInputQubits = qnnArch[l-1]\n",
    "        numOutputQubits = qnnArch[l]\n",
    "        #print(numInputQubits)\n",
    "        #print(numOutputQubits)\n",
    "        networkUnitaries.append([])\n",
    "        for j in range(numOutputQubits):\n",
    "            unitary = randomQubitUnitary(numInputQubits+1)\n",
    "            if numOutputQubits-1 != 0: \n",
    "                #print(j,\"0:\",randomQubitUnitary(numInputQubits+1))\n",
    "                unitary = qt.tensor(randomQubitUnitary(numInputQubits+1), tensoredId(numOutputQubits-1))\n",
    "                #print(j,\"1:\",unitary)\n",
    "                unitary = swappedOp(unitary, numInputQubits, numInputQubits + j)\n",
    "                #print(j,\"2:\",unitary)\n",
    "            networkUnitaries[l].append(unitary)\n",
    "    #print(networkUnitaries)\n",
    "    #Return\n",
    "    #return (qnnArch, networkUnitaries, networkTrainingData, networkUnitary)\n",
    "    return (qnnArch, networkUnitaries)"
   ]
  },
  {
   "cell_type": "code",
   "execution_count": 3,
   "id": "9f989439-b7a6-4fe4-ac7c-6332dfed8455",
   "metadata": {},
   "outputs": [],
   "source": [
    "def costFunction(trainingData, outputStates):\n",
    "    costSum = 0\n",
    "    for i in range(len(trainingData)):\n",
    "        costSum += trainingData[i][1].dag() * outputStates[i] * trainingData[i][1]\n",
    "        #print(trainingData[i][1][0])\n",
    "        #print(trainingData[i][1][0]**2)\n",
    "        #print(outputStates[i][0,0])\n",
    "    return costSum.tr()/len(trainingData)\n",
    "def makeLayerChannel(qnnArch, unitaries, l, inputState):\n",
    "    numInputQubits = qnnArch[l-1]\n",
    "    numOutputQubits = qnnArch[l]\n",
    "\n",
    "    #Tensor input state\n",
    "    state = qt.tensor(inputState, tensoredQubit0(numOutputQubits))\n",
    "\n",
    "    #Calculate layer unitary\n",
    "    layerUni = unitaries[l][0].copy()\n",
    "    for i in range(1, numOutputQubits):\n",
    "        layerUni = unitaries[l][i] * layerUni\n",
    "\n",
    "    #Multiply and tensor out input state\n",
    "    return partialTraceRem(layerUni * state * layerUni.dag(), list(range(numInputQubits)))\n",
    "def makeAdjointLayerChannel(qnnArch, unitaries, l, outputState):\n",
    "    numInputQubits = qnnArch[l-1]\n",
    "    numOutputQubits = qnnArch[l]\n",
    "    \n",
    "    #Prepare needed states\n",
    "    inputId = tensoredId(numInputQubits)\n",
    "    state1 = qt.tensor(inputId, tensoredQubit0(numOutputQubits))\n",
    "    state2 = qt.tensor(inputId, outputState)\n",
    "\n",
    "    #Calculate layer unitary\n",
    "    layerUni = unitaries[l][0].copy()\n",
    "    for i in range(1, numOutputQubits):\n",
    "        layerUni = unitaries[l][i] * layerUni\n",
    "    \n",
    "    #Multiply and tensor out output state\n",
    "    return partialTraceKeep(state1 * layerUni.dag() * state2 * layerUni, list(range(numInputQubits)) )\n",
    "def feedforward(qnnArch, unitaries, trainingData):\n",
    "    storedStates = []\n",
    "    for x in range(len(trainingData)):\n",
    "        currentState = trainingData[x][0] * trainingData[x][0].dag()\n",
    "        layerwiseList = [currentState]\n",
    "        for l in range(1, len(qnnArch)):\n",
    "            currentState = makeLayerChannel(qnnArch, unitaries, l, currentState)\n",
    "            layerwiseList.append(currentState)\n",
    "        storedStates.append(layerwiseList)\n",
    "    return storedStates\n",
    "def makeUpdateMatrix(qnnArch, unitaries, trainingData, storedStates, lda, ep, l, j):\n",
    "    numInputQubits = qnnArch[l-1]\n",
    "    \n",
    "    #Calculate the sum:\n",
    "    summ = 0\n",
    "    for x in range(len(trainingData)):\n",
    "        #Calculate the commutator\n",
    "        firstPart = updateMatrixFirstPart(qnnArch, unitaries, storedStates, l, j, x)\n",
    "        secondPart = updateMatrixSecondPart(qnnArch, unitaries, trainingData, l, j, x)\n",
    "        mat = qt.commutator(firstPart, secondPart)\n",
    "        \n",
    "        #Trace out the rest\n",
    "        keep = list(range(numInputQubits))\n",
    "        keep.append(numInputQubits + j)\n",
    "        mat = partialTraceKeep(mat, keep)\n",
    "        \n",
    "        #Add to sum\n",
    "        summ = summ + mat\n",
    "\n",
    "    #Calculate the update matrix from the sum\n",
    "    summ = (-ep * (2**numInputQubits)/(lda*len(trainingData))) * summ\n",
    "    return summ.expm()\n",
    "\n",
    "\n",
    "def updateMatrixFirstPart(qnnArch, unitaries, storedStates, l, j, x):\n",
    "    numInputQubits = qnnArch[l-1]\n",
    "    numOutputQubits = qnnArch[l]\n",
    "    \n",
    "    #Tensor input state\n",
    "    state = qt.tensor(storedStates[x][l-1], tensoredQubit0(numOutputQubits))\n",
    "    \n",
    "    #Calculate needed product unitary\n",
    "    productUni = unitaries[l][0]\n",
    "    for i in range(1, j+1):\n",
    "        productUni = unitaries[l][i] * productUni\n",
    "    \n",
    "    #Multiply\n",
    "    return productUni * state * productUni.dag()\n",
    "\n",
    "\n",
    "def updateMatrixSecondPart(qnnArch, unitaries, trainingData, l, j, x):\n",
    "    numInputQubits = qnnArch[l-1]\n",
    "    numOutputQubits = qnnArch[l]\n",
    "    \n",
    "    #Calculate sigma state\n",
    "    state = trainingData[x][1] * trainingData[x][1].dag()\n",
    "    for i in range(len(qnnArch)-1,l,-1):\n",
    "        state = makeAdjointLayerChannel(qnnArch, unitaries, i, state)\n",
    "    #Tensor sigma state\n",
    "    state = qt.tensor(tensoredId(numInputQubits), state)\n",
    "    \n",
    "    #Calculate needed product unitary\n",
    "    productUni = tensoredId(numInputQubits + numOutputQubits)\n",
    "    for i in range(j+1, numOutputQubits):\n",
    "        productUni = unitaries[l][i] * productUni\n",
    "        \n",
    "    #Multiply\n",
    "    return productUni.dag() * state * productUni\n",
    "\n",
    "\n",
    "def makeUpdateMatrixTensored(qnnArch, unitaries, lda, ep, trainingData, storedStates, l, j):\n",
    "    numInputQubits = qnnArch[l-1]\n",
    "    numOutputQubits = qnnArch[l]\n",
    "    \n",
    "    res = makeUpdateMatrix(qnnArch, unitaries, lda, ep, trainingData, storedStates, l, j)\n",
    "    if numOutputQubits-1 != 0:\n",
    "        res = qt.tensor(res, tensoredId(numOutputQubits-1))\n",
    "    return swappedOp(res, numInputQubits, numInputQubits + j)\n",
    "def qnnTraining(qnnArch, initialUnitaries, trainingData, lda, ep, trainingRounds, alert=0):\n",
    "    \n",
    "    ### FEEDFORWARD    \n",
    "    #Feedforward for given unitaries\n",
    "    s = 0\n",
    "    currentUnitaries = initialUnitaries\n",
    "    storedStates = feedforward(qnnArch, currentUnitaries, trainingData)\n",
    "\n",
    "    #Cost calculation for given unitaries\n",
    "    outputStates = []\n",
    "    for k in range(len(storedStates)):\n",
    "        outputStates.append(storedStates[k][-1])\n",
    "    plotlist = [[s], [costFunction(trainingData, outputStates)]]\n",
    "    \n",
    "    #Optional\n",
    "    runtime = time()\n",
    "    \n",
    "    #Training of the Quantum Neural Network\n",
    "    for k in range(trainingRounds):\n",
    "        if alert>0 and k%alert==0: print(\"In training round \"+str(k))\n",
    "        \n",
    "        ### UPDATING\n",
    "        newUnitaries = unitariesCopy(currentUnitaries)\n",
    "        \n",
    "        #Loop over layers:\n",
    "        for l in range(1, len(qnnArch)):\n",
    "            numInputQubits = qnnArch[l-1]\n",
    "            numOutputQubits = qnnArch[l]\n",
    "            \n",
    "            #Loop over perceptrons\n",
    "            for j in range(numOutputQubits):\n",
    "                newUnitaries[l][j] = (makeUpdateMatrixTensored(qnnArch,currentUnitaries,trainingData,storedStates,lda,ep,l,j)* currentUnitaries[l][j])\n",
    "        \n",
    "        ### FEEDFORWARD\n",
    "        \n",
    "        #Feedforward for given unitaries\n",
    "        s = s + ep\n",
    "        currentUnitaries = newUnitaries\n",
    "        storedStates = feedforward(qnnArch, currentUnitaries, trainingData)\n",
    "        \n",
    "        #Cost calculation for given unitaries\n",
    "        outputStates = []\n",
    "        for m in range(len(storedStates)):\n",
    "            outputStates.append(storedStates[m][-1])\n",
    "            #print(storedStates[m][-1])\n",
    "        plotlist[0].append(s)\n",
    "        plotlist[1].append(costFunction(trainingData, outputStates))\n",
    "        #plotlist[1].append(np.log10(1-costFunction(trainingData, outputStates)))\n",
    "    \n",
    "    #Optional\n",
    "    runtime = time() - runtime\n",
    "    print(\"Trained \"+str(trainingRounds)+\" rounds for a \"+str(qnnArch)+\" network and \"+str(len(trainingData))+\" training pairs in \"+str(round(runtime, 2))+\" seconds\")\n",
    "    print(costFunction(trainingData, outputStates))\n",
    "    #Return\n",
    "    return [plotlist, currentUnitaries, outputStates]"
   ]
  },
  {
   "cell_type": "code",
   "execution_count": 27,
   "id": "f82ceb7c-d0de-4c55-9fdc-bc5270f2107d",
   "metadata": {},
   "outputs": [
    {
     "name": "stdout",
     "output_type": "stream",
     "text": [
      "(25+0j)\n"
     ]
    }
   ],
   "source": [
    "a=5\n",
    "b=3\n",
    "r=a*qubit0+b*qubit1\n",
    "c=r* r.dag()\n",
    "d=c[0,0]\n",
    "print(d)"
   ]
  },
  {
   "cell_type": "code",
   "execution_count": 1,
   "id": "9e66e13e-f621-4518-9cbf-8a8619eb7ca2",
   "metadata": {
    "tags": []
   },
   "outputs": [
    {
     "ename": "NameError",
     "evalue": "name 'np' is not defined",
     "output_type": "error",
     "traceback": [
      "\u001b[1;31m---------------------------------------------------------------------------\u001b[0m",
      "\u001b[1;31mNameError\u001b[0m                                 Traceback (most recent call last)",
      "\u001b[1;32m<ipython-input-1-6c943492898d>\u001b[0m in \u001b[0;36m<module>\u001b[1;34m\u001b[0m\n\u001b[1;32m----> 1\u001b[1;33m \u001b[0mx\u001b[0m\u001b[1;33m=\u001b[0m\u001b[0mnp\u001b[0m\u001b[1;33m.\u001b[0m\u001b[0mlinspace\u001b[0m\u001b[1;33m(\u001b[0m\u001b[1;36m0\u001b[0m\u001b[1;33m,\u001b[0m\u001b[1;36m1\u001b[0m\u001b[1;33m,\u001b[0m\u001b[1;36m201\u001b[0m\u001b[1;33m,\u001b[0m\u001b[0mendpoint\u001b[0m\u001b[1;33m=\u001b[0m\u001b[1;32mTrue\u001b[0m\u001b[1;33m)\u001b[0m\u001b[1;33m\u001b[0m\u001b[1;33m\u001b[0m\u001b[0m\n\u001b[0m\u001b[0;32m      2\u001b[0m \u001b[0mx\u001b[0m\u001b[1;33m=\u001b[0m\u001b[0mx\u001b[0m\u001b[1;33m[\u001b[0m\u001b[1;36m1\u001b[0m\u001b[1;33m:\u001b[0m\u001b[1;33m]\u001b[0m\u001b[1;33m\u001b[0m\u001b[1;33m\u001b[0m\u001b[0m\n\u001b[0;32m      3\u001b[0m \u001b[0mprint\u001b[0m\u001b[1;33m(\u001b[0m\u001b[0mx\u001b[0m\u001b[1;33m)\u001b[0m\u001b[1;33m\u001b[0m\u001b[1;33m\u001b[0m\u001b[0m\n",
      "\u001b[1;31mNameError\u001b[0m: name 'np' is not defined"
     ]
    }
   ],
   "source": [
    "x=np.linspace(0,1,201,endpoint=True)\n",
    "x=x[1:]\n",
    "print(x)"
   ]
  },
  {
   "cell_type": "code",
   "execution_count": 5,
   "id": "6478f7bd-1e40-4440-aecf-a9b33f11ad14",
   "metadata": {
    "tags": []
   },
   "outputs": [],
   "source": [
    "y=np.log(x)\n",
    "#print(y)"
   ]
  },
  {
   "cell_type": "code",
   "execution_count": 8,
   "id": "8590101d-6ff5-4c60-8571-61c2b88db87c",
   "metadata": {},
   "outputs": [
    {
     "data": {
      "text/plain": [
       "'\\np_x_train=sigmoid(x_train)\\np_y_train=sigmoid(y_train)\\np_x_test=sigmoid(x_test)\\n'"
      ]
     },
     "execution_count": 8,
     "metadata": {},
     "output_type": "execute_result"
    }
   ],
   "source": [
    "x_train,x_test,y_train,y_test = train_test_split(x, y,test_size=0.2,random_state=1)\n",
    "p_x_train=sigmoid(0.0056,x_train,0.25)\n",
    "p_y_train=sigmoid(y_train,x_train,0.31)\n",
    "p_x_test=sigmoid(0.0056,x_test,0.25)\n",
    "'''\n",
    "p_x_train=sigmoid(x_train)\n",
    "p_y_train=sigmoid(y_train)\n",
    "p_x_test=sigmoid(x_test)\n",
    "'''"
   ]
  },
  {
   "cell_type": "code",
   "execution_count": 9,
   "id": "4ee890af-c795-4a61-84d5-55e57cbb2173",
   "metadata": {
    "tags": []
   },
   "outputs": [],
   "source": [
    "trainingData=[]\n",
    "for i in range(len(p_x_train)):\n",
    "    u=qb_trans(p_x_train[i])\n",
    "    \n",
    "    #ut=qb_trans(sigmoid(y_train[i],x_train[i],0.8))\n",
    "    ut=qb_trans(p_y_train[i])\n",
    "    #print(ut[0]**2)\n",
    "    #print(ut[0,0])\n",
    "    trainingData.append([u,ut])\n",
    "    "
   ]
  },
  {
   "cell_type": "code",
   "execution_count": null,
   "id": "6fcf626f-c7a5-42af-8c84-5cf500fc69b5",
   "metadata": {},
   "outputs": [],
   "source": []
  },
  {
   "cell_type": "code",
   "execution_count": 10,
   "id": "0196ddef-0036-497a-ab31-6aa952dc1b99",
   "metadata": {
    "tags": []
   },
   "outputs": [
    {
     "name": "stdout",
     "output_type": "stream",
     "text": [
      "In training round 0\n",
      "Trained 10 rounds for a [1, 2, 1] network and 160 training pairs in 13.8 seconds\n",
      "0.9874671406252482\n"
     ]
    },
    {
     "data": {
      "image/png": "[encoded data removed]",
      "text/plain": [
       "<Figure size 432x288 with 1 Axes>"
      ]
     },
     "metadata": {
      "needs_background": "light"
     },
     "output_type": "display_data"
    }
   ],
   "source": [
    "network121 = randomNetwork([1,2,1])\n",
    "trained121_result=qnnTraining(network121[0], network121[1], trainingData, 1, 0.1, 10, 10)\n",
    "plotlist121 = trained121_result[0]\n",
    "\n",
    "for i in range(len(plotlist121[1])):\n",
    "    if plotlist121[1][i] >= 0.9999:\n",
    "        print(\"Exceeds cost of 0.9999 at training step \"+str(i))\n",
    "        break\n",
    "\n",
    "plt.plot(plotlist121[0][5:], plotlist121[1][5:])\n",
    "plt.xlabel(\"s\")\n",
    "plt.ylabel(\"Cost[s]\")\n",
    "plt.show()\n",
    "\n"
   ]
  },
  {
   "cell_type": "code",
   "execution_count": 80,
   "id": "97909557-175c-43b3-b925-2a051b18957e",
   "metadata": {
    "tags": []
   },
   "outputs": [
    {
     "name": "stdout",
     "output_type": "stream",
     "text": [
      "(0.6670416283366967-0j)\n",
      "(0.6845314941751802-0j)\n",
      "0.3566235087316853\n",
      "0.23799977010380385\n",
      "0.7165706900827706\n",
      "0.32569353914739957\n"
     ]
    }
   ],
   "source": [
    "train_out=trained121_result[2]\n",
    "costSum = 0\n",
    "a=[]\n",
    "for i in range(len(trainingData)):\n",
    "    costSum += trainingData[i][1].dag() * train_out[i] * trainingData[i][1]\n",
    "    #print(trainingData[i][1][0])\n",
    "    #print(trainingData[i][1][0]**2)\n",
    "    #print(train_out[i][0,0])\n",
    "    a.append(train_out[i][0,0])\n",
    "    #print(costSum)\n",
    "    #print(costSum.tr())\n",
    "\n",
    "amax=max(a)\n",
    "amin=min(a)\n",
    "print(-np.log(np.pi/(2*np.arccos(amax**(0.5)))-1))\n",
    "print(-np.log(np.pi/(2*np.arccos(amin**(0.5)))-1))\n",
    "b=(y_train/x_train)**0.31\n",
    "#print(b)\n",
    "print(max(y_train))\n",
    "print(min(y_train))\n",
    "bmax=max(b)\n",
    "bmin=min(b)\n",
    "print(bmax)\n",
    "print(bmin)\n"
   ]
  },
  {
   "cell_type": "code",
   "execution_count": 78,
   "id": "84b7e612-3aad-4ea2-bafe-804c5b82cfb6",
   "metadata": {
    "tags": []
   },
   "outputs": [
    {
     "name": "stdout",
     "output_type": "stream",
     "text": [
      "train_MSE: 0.0002242998763194391\n",
      "train_RMSE: 0.014976644361119052\n",
      "train_MAE: 0.010420015125687021\n",
      "train_MAPE: 0.04001528158575412\n"
     ]
    },
    {
     "name": "stderr",
     "output_type": "stream",
     "text": [
      "<ipython-input-78-3a8e76acda2b>:8: ComplexWarning: Casting complex values to real discards the imaginary part\n",
      "  train_out_y_list.append(float(train_out_y))\n"
     ]
    }
   ],
   "source": [
    "#x*(-np.log((np.pi/(2*(np.arccos(y**(1/2)))))-1))**(1/gamma)\n",
    "train_out=trained121_result[2]\n",
    "train_out_y_list=[]\n",
    "for i in range(len(y_train)):\n",
    "    train_out_y=train_out[i][0,0]\n",
    "    #train_out_y=ver_sigmoid(x_train[i],train_out_y,0.25)\n",
    "    #train_out_y=ver_sigmoid(train_out_y)\n",
    "    train_out_y_list.append(float(train_out_y))\n",
    "    #print(sigmoid(0.0056,x_train[i],0.25))\n",
    "    #print(np.cos(sigmoid(y_train[i],x_train[i],0.25))**2)\n",
    "    #print(train_out_y)\n",
    "    #print(ver_sigmoid(x_train[i],train_out_y,0.25))\n",
    "    #print(y_train[i])\n",
    "    #print(x_train[i])\n",
    "y_train=np.cos(p_y_train)**2\n",
    "#print(y_train)\n",
    "#print(train_out_y_list)\n",
    "\n",
    "train_MSE=metrics.mean_squared_error(y_train,train_out_y_list)\n",
    "train_RMSE=train_MSE**(1/2)\n",
    "train_MAE=metrics.mean_absolute_error(y_train,train_out_y_list)\n",
    "train_MAPE=metrics.mean_absolute_percentage_error(y_train,train_out_y_list)\n",
    "train_R2=metrics.r2_score(y_train, train_out_y_list)\n",
    "print(\"train_MSE:\",train_MSE)\n",
    "print(\"train_RMSE:\",train_RMSE)\n",
    "print(\"train_MAE:\",train_MAE)\n",
    "print(\"train_MAPE:\",train_MAPE)\n",
    "print(\"train_R2:\",train_R2)"
   ]
  },
  {
   "cell_type": "code",
   "execution_count": 20,
   "id": "d89cf651-0a2f-44d3-9171-413c93465429",
   "metadata": {},
   "outputs": [
    {
     "name": "stdout",
     "output_type": "stream",
     "text": [
      "1.7833912195575383\n"
     ]
    }
   ],
   "source": [
    "a=np.log(5.95)\n",
    "print(a)"
   ]
  },
  {
   "cell_type": "code",
   "execution_count": 27,
   "id": "84cd1050-57b8-4330-b087-a93607203f67",
   "metadata": {
    "tags": []
   },
   "outputs": [
    {
     "name": "stdout",
     "output_type": "stream",
     "text": [
      "1.0\n"
     ]
    }
   ],
   "source": [
    "a=costFunction(trainingData, train_out)\n",
    "y =[10, 20, 30]\n",
    "f =[10, 20, 30]\n",
    "r2 = metrics.r2_score(y, f)\n",
    "print(r2)"
   ]
  },
  {
   "cell_type": "code",
   "execution_count": 29,
   "id": "8952f6f9-dc97-41a1-9b6d-e656a83a31c2",
   "metadata": {
    "collapsed": true,
    "jupyter": {
     "outputs_hidden": true
    },
    "tags": []
   },
   "outputs": [
    {
     "name": "stdout",
     "output_type": "stream",
     "text": [
      "[0.3272786  0.33278976 0.31262972 0.2975796  0.34278497 0.3394472\n",
      " 0.29139055 0.32084748 0.24945025 0.2797944  0.34347399 0.2967653\n",
      " 0.34243374 0.26818843 0.33904982 0.3315085  0.29235104 0.34814263\n",
      " 0.32603727 0.34544085 0.29990466 0.3417173  0.27688094 0.33044019\n",
      " 0.29419017 0.30409805 0.34295888 0.30600216 0.34397941 0.32635261\n",
      " 0.34682623 0.29040061 0.3013652  0.32474059 0.34447549 0.33631707\n",
      " 0.32303449 0.33761198 0.3275808  0.31636597 0.34652456]\n",
      "[0.23934382896491974, 0.23909875836047256, 0.24000611451821802, 0.24068759431891598, 0.23866331085521347, 0.23880727847560673, 0.24096231218546937, 0.23963316429395276, 0.24252346799179542, 0.24145804244376365, 0.23863378586107975, 0.24072402240295696, 0.23867838726061108, 0.24191536856411638, 0.23882451967777274, 0.23915545496945984, 0.24092003730730505, 0.23843557329230924, 0.2393994276236709, 0.23854988389523377, 0.24058320365379382, 0.23870919459541395, 0.2415771880742152, 0.2392028624419347, 0.2408386947175485, 0.24039379621365725, 0.23865585210005894, 0.24030744483843614, 0.23861217160193487, 0.2393852908981812, 0.23849113086816223, 0.24100572331651401, 0.24051737785402483, 0.23945764253851387, 0.23859099324372052, 0.23894364239194915, 0.23953443547110873, 0.238887077135562, 0.23933031413788747, 0.23983627165536497, 0.23850389976089484]\n",
      "test_MSE: 0.006994259875391649\n",
      "test_RMSE: 0.08363169181232465\n",
      "test_MAE: 0.07954553495059244\n",
      "test_MAPE: 0.24398695431847117\n"
     ]
    },
    {
     "name": "stderr",
     "output_type": "stream",
     "text": [
      "<ipython-input-29-8076a2a7a8e7>:23: ComplexWarning: Casting complex values to real discards the imaginary part\n",
      "  outputStates.append(float(t_out))\n"
     ]
    }
   ],
   "source": [
    "#################test####################\n",
    "testData=[]\n",
    "for i in range(len(p_x_test)):\n",
    "    u=qb_trans(p_x_test[i])\n",
    "    #print(u)\n",
    "    testData.append([u])\n",
    "    \n",
    "#y_test=(np.cos(sigmoid(y_test)))**2\n",
    "\n",
    "learnedUnitaries = trained121_result[1]\n",
    "\n",
    "storedStates = feedforward([1,2,1], learnedUnitaries, testData)\n",
    "outputStates = []\n",
    "for k in range(len(storedStates)):\n",
    "    t_qstate=storedStates[k][-1]\n",
    "    #print(t_qstate)\n",
    "    t_out=t_qstate[0,0]\n",
    "    #t_out=ver_sigmoid(x_test[k],t_out,0.8)\n",
    "    #t_out=ver_sigmoid(t_out)\n",
    "    #print(t_out)\n",
    "    #print(y_test[k])\n",
    "    #t_out=np.arccos(t_out**(1/2))\n",
    "    outputStates.append(float(t_out))\n",
    "\n",
    "    \n",
    "y_test=np.cos(sigmoid(y_test,x_test,0.25))**2\n",
    "print(y_test)\n",
    "print(outputStates)\n",
    "train_MSE=metrics.mean_squared_error(y_test,outputStates)\n",
    "train_RMSE=train_MSE**(1/2)\n",
    "train_MAE=metrics.mean_absolute_error(y_test,outputStates)\n",
    "train_MAPE=metrics.mean_absolute_percentage_error(y_test,outputStates)\n",
    "print(\"test_MSE:\",train_MSE)\n",
    "print(\"test_RMSE:\",train_RMSE)\n",
    "print(\"test_MAE:\",train_MAE)\n",
    "print(\"test_MAPE:\",train_MAPE)\n",
    "#print(\"output:\",outputStates)\n",
    "#print(\"y:\",y_test)"
   ]
  },
  {
   "cell_type": "code",
   "execution_count": null,
   "id": "15cad948-6d13-4cbb-b004-200a2c34627c",
   "metadata": {},
   "outputs": [],
   "source": [
    "R^2,C,log(1-C),y and y_ture plot"
   ]
  },
  {
   "cell_type": "code",
   "execution_count": 70,
   "id": "8236022d-82c3-46df-ba85-99709f39ac54",
   "metadata": {
    "collapsed": true,
    "jupyter": {
     "outputs_hidden": true
    },
    "tags": []
   },
   "outputs": [
    {
     "name": "stdout",
     "output_type": "stream",
     "text": [
      "[Quantum object: dims = [[2], [2]], shape = (2, 2), type = oper, isherm = True\n",
      "Qobj data =\n",
      "[[ 0.93596825+0.j         -0.14264181+0.00825384j]\n",
      " [-0.14264181-0.00825384j  0.06403175+0.j        ]], Quantum object: dims = [[2], [2]], shape = (2, 2), type = oper, isherm = True\n",
      "Qobj data =\n",
      "[[ 0.8935347+0.j         -0.2198672-0.02518756j]\n",
      " [-0.2198672+0.02518756j  0.1064653+0.j        ]], Quantum object: dims = [[2], [2]], shape = (2, 2), type = oper, isherm = True\n",
      "Qobj data =\n",
      "[[ 0.87773555+0.j         -0.19295891-0.05027482j]\n",
      " [-0.19295891+0.05027482j  0.12226445+0.j        ]], Quantum object: dims = [[2], [2]], shape = (2, 2), type = oper, isherm = True\n",
      "Qobj data =\n",
      "[[0.92006712+0.j         0.10220457-0.06643182j]\n",
      " [0.10220457+0.06643182j 0.07993288+0.j        ]], Quantum object: dims = [[2], [2]], shape = (2, 2), type = oper, isherm = True\n",
      "Qobj data =\n",
      "[[ 0.88229031+0.j         -0.20692743-0.04163235j]\n",
      " [-0.20692743+0.04163235j  0.11770969+0.j        ]], Quantum object: dims = [[2], [2]], shape = (2, 2), type = oper, isherm = True\n",
      "Qobj data =\n",
      "[[0.93700385+0.j         0.10277286-0.04621572j]\n",
      " [0.10277286+0.04621572j 0.06299615+0.j        ]], Quantum object: dims = [[2], [2]], shape = (2, 2), type = oper, isherm = True\n",
      "Qobj data =\n",
      "[[ 0.89755709+0.j         -0.22002456-0.02031997j]\n",
      " [-0.22002456+0.02031997j  0.10244291+0.j        ]], Quantum object: dims = [[2], [2]], shape = (2, 2), type = oper, isherm = True\n",
      "Qobj data =\n",
      "[[ 0.93946783+0.j         -0.12733076+0.00898179j]\n",
      " [-0.12733076-0.00898179j  0.06053217+0.j        ]], Quantum object: dims = [[2], [2]], shape = (2, 2), type = oper, isherm = True\n",
      "Qobj data =\n",
      "[[ 0.95154959+0.j         -0.04425388+0.00463495j]\n",
      " [-0.04425388-0.00463495j  0.04845041+0.j        ]], Quantum object: dims = [[2], [2]], shape = (2, 2), type = oper, isherm = True\n",
      "Qobj data =\n",
      "[[ 0.87945928+0.j         -0.19919803-0.04678782j]\n",
      " [-0.19919803+0.04678782j  0.12054072+0.j        ]], Quantum object: dims = [[2], [2]], shape = (2, 2), type = oper, isherm = True\n",
      "Qobj data =\n",
      "[[ 0.88392564+0.j         -0.21032148-0.03889742j]\n",
      " [-0.21032148+0.03889742j  0.11607436+0.j        ]], Quantum object: dims = [[2], [2]], shape = (2, 2), type = oper, isherm = True\n",
      "Qobj data =\n",
      "[[0.88316988+0.j         0.00151044-0.08789494j]\n",
      " [0.00151044+0.08789494j 0.11683012+0.j        ]], Quantum object: dims = [[2], [2]], shape = (2, 2), type = oper, isherm = True\n",
      "Qobj data =\n",
      "[[ 0.95131304+0.j         -0.04699493+0.00497307j]\n",
      " [-0.04699493-0.00497307j  0.04868696+0.j        ]], Quantum object: dims = [[2], [2]], shape = (2, 2), type = oper, isherm = True\n",
      "Qobj data =\n",
      "[[ 0.89090118+0.j         -0.21868528-0.02861938j]\n",
      " [-0.21868528+0.02861938j  0.10909882+0.j        ]], Quantum object: dims = [[2], [2]], shape = (2, 2), type = oper, isherm = True\n",
      "Qobj data =\n",
      "[[ 0.9517751 +0.j         -0.04151637+0.00428438j]\n",
      " [-0.04151637-0.00428438j  0.0482249 +0.j        ]], Quantum object: dims = [[2], [2]], shape = (2, 2), type = oper, isherm = True\n",
      "Qobj data =\n",
      "[[ 0.93539197+0.j        -0.14496723+0.0080895j]\n",
      " [-0.14496723-0.0080895j  0.06460803+0.j       ]], Quantum object: dims = [[2], [2]], shape = (2, 2), type = oper, isherm = True\n",
      "Qobj data =\n",
      "[[0.9350865 +0.j         0.10450332-0.04891176j]\n",
      " [0.10450332+0.04891176j 0.0649135 +0.j        ]], Quantum object: dims = [[2], [2]], shape = (2, 2), type = oper, isherm = True\n",
      "Qobj data =\n",
      "[[0.95371534+0.j         0.02297541-0.00802572j]\n",
      " [0.02297541+0.00802572j 0.04628466+0.j        ]], Quantum object: dims = [[2], [2]], shape = (2, 2), type = oper, isherm = True\n",
      "Qobj data =\n",
      "[[ 0.87379939+0.j         -0.1707165 -0.06005253j]\n",
      " [-0.1707165 +0.06005253j  0.12620061+0.j        ]], Quantum object: dims = [[2], [2]], shape = (2, 2), type = oper, isherm = True\n",
      "Qobj data =\n",
      "[[ 0.92178642+0.j        -0.18777421+0.0014639j]\n",
      " [-0.18777421-0.0014639j  0.07821358+0.j       ]], Quantum object: dims = [[2], [2]], shape = (2, 2), type = oper, isherm = True\n",
      "Qobj data =\n",
      "[[ 0.87480626+0.j         -0.05599964-0.08488583j]\n",
      " [-0.05599964+0.08488583j  0.12519374+0.j        ]], Quantum object: dims = [[2], [2]], shape = (2, 2), type = oper, isherm = True\n",
      "Qobj data =\n",
      "[[0.94041914+0.j         0.09810939-0.04105444j]\n",
      " [0.09810939+0.04105444j 0.05958086+0.j        ]], Quantum object: dims = [[2], [2]], shape = (2, 2), type = oper, isherm = True\n",
      "Qobj data =\n",
      "[[0.90663526+0.j         0.08172625-0.07791778j]\n",
      " [0.08172625+0.07791778j 0.09336474+0.j        ]], Quantum object: dims = [[2], [2]], shape = (2, 2), type = oper, isherm = True\n",
      "Qobj data =\n",
      "[[ 0.93012093+0.j         -0.16408756+0.00609836j]\n",
      " [-0.16408756-0.00609836j  0.06987907+0.j        ]], Quantum object: dims = [[2], [2]], shape = (2, 2), type = oper, isherm = True\n",
      "Qobj data =\n",
      "[[0.93063962+0.j         0.10649908-0.05470661j]\n",
      " [0.10649908+0.05470661j 0.06936038+0.j        ]], Quantum object: dims = [[2], [2]], shape = (2, 2), type = oper, isherm = True\n",
      "Qobj data =\n",
      "[[0.88828603+0.j         0.02553504-0.08720322j]\n",
      " [0.02553504+0.08720322j 0.11171397+0.j        ]], Quantum object: dims = [[2], [2]], shape = (2, 2), type = oper, isherm = True\n",
      "Qobj data =\n",
      "[[ 0.91812675+0.j         -0.19602343-0.00105953j]\n",
      " [-0.19602343+0.00105953j  0.08187325+0.j        ]], Quantum object: dims = [[2], [2]], shape = (2, 2), type = oper, isherm = True\n",
      "Qobj data =\n",
      "[[0.95389018+0.j         0.01233436-0.00539999j]\n",
      " [0.01233436+0.00539999j 0.04610982+0.j        ]], Quantum object: dims = [[2], [2]], shape = (2, 2), type = oper, isherm = True\n",
      "Qobj data =\n",
      "[[ 0.90837783+0.j         -0.21217668-0.00910326j]\n",
      " [-0.21217668+0.00910326j  0.09162217+0.j        ]], Quantum object: dims = [[2], [2]], shape = (2, 2), type = oper, isherm = True\n",
      "Qobj data =\n",
      "[[ 0.87167324+0.j         -0.09961125-0.07874873j]\n",
      " [-0.09961125+0.07874873j  0.12832676+0.j        ]], Quantum object: dims = [[2], [2]], shape = (2, 2), type = oper, isherm = True\n",
      "Qobj data =\n",
      "[[ 0.9442094+0.j         -0.1024489+0.00902893j]\n",
      " [-0.1024489-0.00902893j  0.0557906+0.j        ]], Quantum object: dims = [[2], [2]], shape = (2, 2), type = oper, isherm = True\n",
      "Qobj data =\n",
      "[[ 0.88782294+0.j         -0.21604451-0.03291658j]\n",
      " [-0.21604451+0.03291658j  0.11217706+0.j        ]], Quantum object: dims = [[2], [2]], shape = (2, 2), type = oper, isherm = True\n",
      "Qobj data =\n",
      "[[ 0.94375772+0.j         -0.10508036+0.00908375j]\n",
      " [-0.10508036-0.00908375j  0.05624228+0.j        ]], Quantum object: dims = [[2], [2]], shape = (2, 2), type = oper, isherm = True\n",
      "Qobj data =\n",
      "[[ 0.94647178+0.j         -0.08816314+0.00850347j]\n",
      " [-0.08816314-0.00850347j  0.05352822+0.j        ]], Quantum object: dims = [[2], [2]], shape = (2, 2), type = oper, isherm = True\n",
      "Qobj data =\n",
      "[[ 0.90401615+0.j         -0.21667799-0.01332081j]\n",
      " [-0.21667799+0.01332081j  0.09598385+0.j        ]], Quantum object: dims = [[2], [2]], shape = (2, 2), type = oper, isherm = True\n",
      "Qobj data =\n",
      "[[0.95319839+0.j         0.03547004-0.01148321j]\n",
      " [0.03547004+0.01148321j 0.04680161+0.j        ]], Quantum object: dims = [[2], [2]], shape = (2, 2), type = oper, isherm = True\n",
      "Qobj data =\n",
      "[[ 0.91511618+0.j         -0.20190335-0.00334111j]\n",
      " [-0.20190335+0.00334111j  0.08488382+0.j        ]], Quantum object: dims = [[2], [2]], shape = (2, 2), type = oper, isherm = True\n",
      "Qobj data =\n",
      "[[0.91266676+0.j         0.09288721-0.07320623j]\n",
      " [0.09288721+0.07320623j 0.08733324+0.j        ]], Quantum object: dims = [[2], [2]], shape = (2, 2), type = oper, isherm = True\n",
      "Qobj data =\n",
      "[[ 0.90041463+0.j         -0.21905745-0.01710694j]\n",
      " [-0.21905745+0.01710694j  0.09958537+0.j        ]], Quantum object: dims = [[2], [2]], shape = (2, 2), type = oper, isherm = True\n",
      "Qobj data =\n",
      "[[0.9509311 +0.j         0.06006085-0.01978933j]\n",
      " [0.06006085+0.01978933j 0.0490689 +0.j        ]], Quantum object: dims = [[2], [2]], shape = (2, 2), type = oper, isherm = True\n",
      "Qobj data =\n",
      "[[ 0.89031199+0.j         -0.21829095-0.02941666j]\n",
      " [-0.21829095+0.02941666j  0.10968801+0.j        ]]]\n"
     ]
    }
   ],
   "source": [
    "print(outputStates)"
   ]
  },
  {
   "cell_type": "code",
   "execution_count": 109,
   "id": "aef51460-d379-44a3-af3d-5a2f34a70ed7",
   "metadata": {},
   "outputs": [
    {
     "name": "stdout",
     "output_type": "stream",
     "text": [
      "0.43588143066671764\n",
      "1.783391219557539\n",
      "1.764616804798287\n"
     ]
    }
   ],
   "source": [
    "a=1.7833912195575383\n",
    "b=sigmoid(a,5.95,1.5)\n",
    "c=np.cos(b)**2\n",
    "print(c)\n",
    "d1=ver_sigmoid(5.95,c,1.5)\n",
    "d2=ver_sigmoid(5.95,c+0.001,1.5)\n",
    "print(d1)\n",
    "print(d2)"
   ]
  },
  {
   "cell_type": "code",
   "execution_count": 147,
   "id": "0c3be167-d5c6-4729-a81a-ef0fb173c0b9",
   "metadata": {},
   "outputs": [
    {
     "name": "stdout",
     "output_type": "stream",
     "text": [
      "0.21755146118745544\n",
      "0.7395639939354887\n"
     ]
    }
   ],
   "source": [
    "t=2.5\n",
    "t=(0.0056/t)**0.25\n",
    "print(t)\n",
    "s=1.78\n",
    "s=(s/5.95)**0.25\n",
    "print(s)"
   ]
  },
  {
   "cell_type": "code",
   "execution_count": 105,
   "id": "2aa27622-1cce-4c81-9ca5-31c46b8445e8",
   "metadata": {
    "tags": []
   },
   "outputs": [
    {
     "name": "stdout",
     "output_type": "stream",
     "text": [
      "In training round 0\n",
      "In training round 10\n",
      "In training round 20\n",
      "In training round 30\n",
      "In training round 40\n",
      "In training round 50\n",
      "In training round 60\n",
      "In training round 70\n",
      "In training round 80\n",
      "In training round 90\n",
      "Trained 100 rounds for a [1, 2, 3, 2, 1] network and 160 training pairs in 545.17 seconds\n",
      "0.9992276218095177\n",
      "Exceeds cost of 0.95 at training step 9\n"
     ]
    },
    {
     "data": {
      "image/png": "[encoded data removed]",
      "text/plain": [
       "<Figure size 432x288 with 1 Axes>"
      ]
     },
     "metadata": {
      "needs_background": "light"
     },
     "output_type": "display_data"
    }
   ],
   "source": [
    "network12321 = randomNetwork([1,2,3,2,1])\n",
    "trained_result = qnnTraining(network12321[0], network12321[1], trainingData, 1, 0.1, 100, 10)\n",
    "plotlist12321 = trained_result[0]\n",
    "\n",
    "for i in range(len(plotlist12321[1])):\n",
    "    if plotlist12321[1][i] >= 0.95:\n",
    "        print(\"Exceeds cost of 0.95 at training step \"+str(i))\n",
    "        break\n",
    "\n",
    "plt.plot(plotlist12321[0], plotlist12321[1])\n",
    "plt.xlabel(\"s\")\n",
    "plt.ylabel(\"Cost[s]\")\n",
    "plt.show()"
   ]
  },
  {
   "cell_type": "code",
   "execution_count": null,
   "id": "3daffad4-05b4-4d25-826f-2d5321ab6dc4",
   "metadata": {},
   "outputs": [],
   "source": [
    "R^2,MSE"
   ]
  }
 ],
 "metadata": {
  "kernelspec": {
   "display_name": "Python 3",
   "language": "python",
   "name": "python3"
  },
  "language_info": {
   "codemirror_mode": {
    "name": "ipython",
    "version": 3
   },
   "file_extension": ".py",
   "mimetype": "text/x-python",
   "name": "python",
   "nbconvert_exporter": "python",
   "pygments_lexer": "ipython3",
   "version": "3.8.8"
  }
 },
 "nbformat": 4,
 "nbformat_minor": 5
}
