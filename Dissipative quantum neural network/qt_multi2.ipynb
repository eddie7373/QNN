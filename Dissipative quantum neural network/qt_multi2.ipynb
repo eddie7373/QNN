{
 "cells": [
  {
   "cell_type": "code",
   "execution_count": 102,
   "id": "cb742519-0726-45a7-8f8b-cad01b52d8d4",
   "metadata": {},
   "outputs": [],
   "source": [
    "\n",
    "# math related packages\n",
    "import scipy as sc\n",
    "import qutip as qt\n",
    "# further packages\n",
    "from time import time\n",
    "from random import sample\n",
    "import matplotlib.pyplot as plt\n",
    "import numpy as np\n",
    "from sklearn.model_selection import train_test_split\n",
    "from sklearn import metrics\n",
    "from sklearn.preprocessing import MinMaxScaler\n",
    "\n",
    "# ket states\n",
    "qubit0 = qt.basis(2,0)\n",
    "qubit1 = qt.basis(2,1)\n",
    "# density matrices\n",
    "qubit0mat = qubit0 * qubit0.dag() # it is also possible to use ket2dm(qubit0) \n",
    "qubit1mat = qubit1 * qubit1.dag() # it is also possible to use ket2dm(qubit1)\n",
    "\n",
    "\n",
    "\n",
    "def sigmoid(s,t,u):\n",
    "    return 1/(1+np.exp(-(s/t)**u))*((np.pi)/2)\n",
    "def ver_sigmoid(x,y,gamma):\n",
    "    return x*(-np.log((np.pi/(2*(np.arccos(y**(1/2)))))-1))**(1/gamma)\n",
    "'''\n",
    "def sigmoid(x):\n",
    "    return ((np.pi)/2)/(1+np.exp(-x))\n",
    "def ver_sigmoid(y):\n",
    "    return -np.log((np.pi/(2*(np.arccos(y**(1/2)))))-1)\n",
    "'''\n",
    "\n",
    "def qb_xtrans(a,b):# transform normal data to qubit(Bloch sphere representation)\n",
    "    qubit0 = qt.basis(2,0)\n",
    "    qubit1 = qt.basis(2,1)\n",
    "    \n",
    "    r= np.cos(a)*qubit0+np.exp(2*b*1j)*np.sin(a)*qubit1\n",
    "    return r\n",
    "\n",
    "def qb_ytrans(a):# transform normal data to qubit(Bloch sphere representation)\n",
    "    qubit0 = qt.basis(2,0)\n",
    "    qubit1 = qt.basis(2,1)\n",
    "    r=np.cos(a)*qubit0+np.sin(a)*qubit1\n",
    "    return r\n",
    "\n",
    "\n",
    "\n",
    "def partialTraceKeep(obj, keep): # generalisation of ptrace(), partial trace via \"to-keep\" list\n",
    "    # return partial trace:\n",
    "    res = obj;\n",
    "    if len(keep) != len(obj.dims[0]):\n",
    "        res = obj.ptrace(keep);\n",
    "    return res;\n",
    "\n",
    "def partialTraceRem(obj, rem): # partial trace via \"to-remove\" list\n",
    "    # prepare keep list\n",
    "    rem.sort(reverse=True)\n",
    "    keep = list(range(len(obj.dims[0])))\n",
    "    for x in rem:\n",
    "        keep.pop(x)\n",
    "    res = obj;\n",
    "    # return partial trace:\n",
    "    if len(keep) != len(obj.dims[0]):\n",
    "        res = obj.ptrace(keep);\n",
    "    return res;\n",
    "def swappedOp(obj, i, j):\n",
    "    if i==j: return obj\n",
    "    numberOfQubits = len(obj.dims[0])\n",
    "    permute = list(range(numberOfQubits))\n",
    "    permute[i], permute[j] = permute[j], permute[i]\n",
    "    return obj.permute(permute)\n",
    "def tensoredId(N):\n",
    "    #Make Identity matrix\n",
    "    res = qt.qeye(2**N)\n",
    "    #Make dims list\n",
    "    dims = [2 for i in range(N)]\n",
    "    dims = [dims.copy(), dims.copy()]\n",
    "    res.dims = dims\n",
    "    #Return\n",
    "    return res\n",
    "\n",
    "def tensoredQubit0(N):\n",
    "    #Make Qubit matrix\n",
    "    res = qt.fock(2**N).proj() #for some reason ran faster than fock_dm(2**N) in tests\n",
    "    #Make dims list\n",
    "    dims = [2 for i in range(N)]\n",
    "    dims = [dims.copy(), dims.copy()]\n",
    "    res.dims = dims\n",
    "    #Return\n",
    "    return res\n",
    "\n",
    "def unitariesCopy(unitaries): # deep copyof a list of unitaries\n",
    "    newUnitaries = []\n",
    "    for layer in unitaries:\n",
    "        newLayer = []\n",
    "        for unitary in layer:\n",
    "            newLayer.append(unitary.copy())\n",
    "        newUnitaries.append(newLayer)\n",
    "    return newUnitaries\n",
    "\n",
    "def randomQubitUnitary(numQubits): # alternatively, use functions rand_unitary and rand_unitary_haar\n",
    "    dim = 2**numQubits\n",
    "    #Make unitary matrix\n",
    "    res = np.random.normal(size=(dim,dim)) + 1j * np.random.normal(size=(dim,dim))\n",
    "    res = sc.linalg.orth(res)\n",
    "    res = qt.Qobj(res)\n",
    "    #Make dims list\n",
    "    dims = [2 for i in range(numQubits)]\n",
    "    dims = [dims.copy(), dims.copy()]\n",
    "    res.dims = dims\n",
    "    #Return\n",
    "    return res\n",
    "\n",
    "def randomQubitState(numQubits): # alternatively, use functions rand_ket and rand_ket_haar\n",
    "    dim = 2**numQubits\n",
    "    #Make normalized state\n",
    "    res = np.random.normal(size=(dim,1)) + 1j * np.random.normal(size=(dim,1))\n",
    "    res = (1/sc.linalg.norm(res)) * res\n",
    "    res = qt.Qobj(res)\n",
    "    #Make dims list\n",
    "    dims1 = [2 for i in range(numQubits)]\n",
    "    dims2 = [1 for i in range(numQubits)]\n",
    "    dims = [dims1, dims2]\n",
    "    res.dims = dims\n",
    "    #Return\n",
    "    return res\n",
    "\n",
    "def randomTrainingData(unitary, N): # generating training data based on a unitary\n",
    "    numQubits = len(unitary.dims[0])\n",
    "    trainingData=[]\n",
    "    #Create training data pairs\n",
    "    for i in range(N):\n",
    "        t = randomQubitState(numQubits)\n",
    "        ut = unitary*t\n",
    "        trainingData.append([t,ut])\n",
    "    #Return\n",
    "    return trainingData"
   ]
  },
  {
   "cell_type": "code",
   "execution_count": 103,
   "id": "809e0679-20d9-4267-9274-167e5d827c27",
   "metadata": {},
   "outputs": [],
   "source": [
    "#def randomNetwork(qnnArch, numTrainingPairs):\n",
    "def randomNetwork(qnnArch):\n",
    "    assert qnnArch[0]==qnnArch[-1], \"Not a valid QNN-Architecture.\"\n",
    "    \n",
    "    #Create the targeted network unitary and corresponding training data\n",
    "    '''\n",
    "    networkUnitary = randomQubitUnitary(qnnArch[-1])\n",
    "    print(networkUnitary)\n",
    "    networkTrainingData = randomTrainingData(networkUnitary, numTrainingPairs)\n",
    "    print(networkTrainingData)\n",
    "    '''\n",
    "    #Create the initial random perceptron unitaries for the network\n",
    "    networkUnitaries = [[]]\n",
    "    for l in range(1, len(qnnArch)):\n",
    "        #print(l)\n",
    "        numInputQubits = qnnArch[l-1]\n",
    "        numOutputQubits = qnnArch[l]\n",
    "        #print(numInputQubits)\n",
    "        #print(numOutputQubits)\n",
    "        networkUnitaries.append([])\n",
    "        for j in range(numOutputQubits):\n",
    "            unitary = randomQubitUnitary(numInputQubits+1)\n",
    "            if numOutputQubits-1 != 0: \n",
    "                #print(j,\"0:\",randomQubitUnitary(numInputQubits+1))\n",
    "                unitary = qt.tensor(randomQubitUnitary(numInputQubits+1), tensoredId(numOutputQubits-1))\n",
    "                #print(j,\"1:\",unitary)\n",
    "                unitary = swappedOp(unitary, numInputQubits, numInputQubits + j)\n",
    "                #print(j,\"2:\",unitary)\n",
    "            networkUnitaries[l].append(unitary)\n",
    "    #print(networkUnitaries)\n",
    "    #Return\n",
    "    #return (qnnArch, networkUnitaries, networkTrainingData, networkUnitary)\n",
    "    return (qnnArch, networkUnitaries)"
   ]
  },
  {
   "cell_type": "code",
   "execution_count": 104,
   "id": "9f989439-b7a6-4fe4-ac7c-6332dfed8455",
   "metadata": {},
   "outputs": [],
   "source": [
    "def costFunction(trainingData, outputStates):\n",
    "    costSum = 0\n",
    "    for i in range(len(trainingData)):\n",
    "        costSum += trainingData[i][1].dag() * outputStates[i] * trainingData[i][1]\n",
    "        #print(trainingData[i][1][0])\n",
    "        #print(trainingData[i][1][0]**2)\n",
    "        #print(outputStates[i][0,0])\n",
    "    return costSum.tr()/len(trainingData)\n",
    "def makeLayerChannel(qnnArch, unitaries, l, inputState):\n",
    "    numInputQubits = qnnArch[l-1]\n",
    "    numOutputQubits = qnnArch[l]\n",
    "\n",
    "    #Tensor input state\n",
    "    state = qt.tensor(inputState, tensoredQubit0(numOutputQubits))\n",
    "\n",
    "    #Calculate layer unitary\n",
    "    layerUni = unitaries[l][0].copy()\n",
    "    for i in range(1, numOutputQubits):\n",
    "        layerUni = unitaries[l][i] * layerUni\n",
    "\n",
    "    #Multiply and tensor out input state\n",
    "    return partialTraceRem(layerUni * state * layerUni.dag(), list(range(numInputQubits)))\n",
    "def makeAdjointLayerChannel(qnnArch, unitaries, l, outputState):\n",
    "    numInputQubits = qnnArch[l-1]\n",
    "    numOutputQubits = qnnArch[l]\n",
    "    \n",
    "    #Prepare needed states\n",
    "    inputId = tensoredId(numInputQubits)\n",
    "    state1 = qt.tensor(inputId, tensoredQubit0(numOutputQubits))\n",
    "    state2 = qt.tensor(inputId, outputState)\n",
    "\n",
    "    #Calculate layer unitary\n",
    "    layerUni = unitaries[l][0].copy()\n",
    "    for i in range(1, numOutputQubits):\n",
    "        layerUni = unitaries[l][i] * layerUni\n",
    "    \n",
    "    #Multiply and tensor out output state\n",
    "    return partialTraceKeep(state1 * layerUni.dag() * state2 * layerUni, list(range(numInputQubits)) )\n",
    "def feedforward(qnnArch, unitaries, trainingData):\n",
    "    storedStates = []\n",
    "    for x in range(len(trainingData)):\n",
    "        currentState = trainingData[x][0] * trainingData[x][0].dag()\n",
    "        layerwiseList = [currentState]\n",
    "        for l in range(1, len(qnnArch)):\n",
    "            currentState = makeLayerChannel(qnnArch, unitaries, l, currentState)\n",
    "            layerwiseList.append(currentState)\n",
    "        storedStates.append(layerwiseList)\n",
    "    return storedStates\n",
    "def makeUpdateMatrix(qnnArch, unitaries, trainingData, storedStates, lda, ep, l, j):\n",
    "    numInputQubits = qnnArch[l-1]\n",
    "    \n",
    "    #Calculate the sum:\n",
    "    summ = 0\n",
    "    for x in range(len(trainingData)):\n",
    "        #Calculate the commutator\n",
    "        firstPart = updateMatrixFirstPart(qnnArch, unitaries, storedStates, l, j, x)\n",
    "        secondPart = updateMatrixSecondPart(qnnArch, unitaries, trainingData, l, j, x)\n",
    "        mat = qt.commutator(firstPart, secondPart)\n",
    "        \n",
    "        #Trace out the rest\n",
    "        keep = list(range(numInputQubits))\n",
    "        keep.append(numInputQubits + j)\n",
    "        mat = partialTraceKeep(mat, keep)\n",
    "        \n",
    "        #Add to sum\n",
    "        summ = summ + mat\n",
    "\n",
    "    #Calculate the update matrix from the sum\n",
    "    summ = (-ep * (2**numInputQubits)/(lda*len(trainingData))) * summ\n",
    "    return summ.expm()\n",
    "\n",
    "\n",
    "def updateMatrixFirstPart(qnnArch, unitaries, storedStates, l, j, x):\n",
    "    numInputQubits = qnnArch[l-1]\n",
    "    numOutputQubits = qnnArch[l]\n",
    "    \n",
    "    #Tensor input state\n",
    "    state = qt.tensor(storedStates[x][l-1], tensoredQubit0(numOutputQubits))\n",
    "    \n",
    "    #Calculate needed product unitary\n",
    "    productUni = unitaries[l][0]\n",
    "    for i in range(1, j+1):\n",
    "        productUni = unitaries[l][i] * productUni\n",
    "    \n",
    "    #Multiply\n",
    "    return productUni * state * productUni.dag()\n",
    "\n",
    "\n",
    "def updateMatrixSecondPart(qnnArch, unitaries, trainingData, l, j, x):\n",
    "    numInputQubits = qnnArch[l-1]\n",
    "    numOutputQubits = qnnArch[l]\n",
    "    \n",
    "    #Calculate sigma state\n",
    "    state = trainingData[x][1] * trainingData[x][1].dag()\n",
    "    for i in range(len(qnnArch)-1,l,-1):\n",
    "        state = makeAdjointLayerChannel(qnnArch, unitaries, i, state)\n",
    "    #Tensor sigma state\n",
    "    state = qt.tensor(tensoredId(numInputQubits), state)\n",
    "    \n",
    "    #Calculate needed product unitary\n",
    "    productUni = tensoredId(numInputQubits + numOutputQubits)\n",
    "    for i in range(j+1, numOutputQubits):\n",
    "        productUni = unitaries[l][i] * productUni\n",
    "        \n",
    "    #Multiply\n",
    "    return productUni.dag() * state * productUni\n",
    "\n",
    "\n",
    "def makeUpdateMatrixTensored(qnnArch, unitaries, lda, ep, trainingData, storedStates, l, j):\n",
    "    numInputQubits = qnnArch[l-1]\n",
    "    numOutputQubits = qnnArch[l]\n",
    "    \n",
    "    res = makeUpdateMatrix(qnnArch, unitaries, lda, ep, trainingData, storedStates, l, j)\n",
    "    if numOutputQubits-1 != 0:\n",
    "        res = qt.tensor(res, tensoredId(numOutputQubits-1))\n",
    "    return swappedOp(res, numInputQubits, numInputQubits + j)\n",
    "def qnnTraining(qnnArch, initialUnitaries, trainingData, lda, ep, trainingRounds, alert=0):\n",
    "    \n",
    "    ### FEEDFORWARD    \n",
    "    #Feedforward for given unitaries\n",
    "    s = 0\n",
    "    currentUnitaries = initialUnitaries\n",
    "    storedStates = feedforward(qnnArch, currentUnitaries, trainingData)\n",
    "\n",
    "    #Cost calculation for given unitaries\n",
    "    outputStates = []\n",
    "    for k in range(len(storedStates)):\n",
    "        outputStates.append(storedStates[k][-1])\n",
    "    plotlist = [[s], [costFunction(trainingData, outputStates)]]\n",
    "    \n",
    "    #Optional\n",
    "    runtime = time()\n",
    "    \n",
    "    #Training of the Quantum Neural Network\n",
    "    for k in range(trainingRounds):\n",
    "        if alert>0 and k%alert==0: print(\"In training round \"+str(k))\n",
    "        \n",
    "        ### UPDATING\n",
    "        newUnitaries = unitariesCopy(currentUnitaries)\n",
    "        \n",
    "        #Loop over layers:\n",
    "        for l in range(1, len(qnnArch)):\n",
    "            numInputQubits = qnnArch[l-1]\n",
    "            numOutputQubits = qnnArch[l]\n",
    "            \n",
    "            #Loop over perceptrons\n",
    "            for j in range(numOutputQubits):\n",
    "                newUnitaries[l][j] = (makeUpdateMatrixTensored(qnnArch,currentUnitaries,trainingData,storedStates,lda,ep,l,j)* currentUnitaries[l][j])\n",
    "        \n",
    "        ### FEEDFORWARD\n",
    "        \n",
    "        #Feedforward for given unitaries\n",
    "        s = s + ep\n",
    "        currentUnitaries = newUnitaries\n",
    "        storedStates = feedforward(qnnArch, currentUnitaries, trainingData)\n",
    "        \n",
    "        #Cost calculation for given unitaries\n",
    "        outputStates = []\n",
    "        for m in range(len(storedStates)):\n",
    "            outputStates.append(storedStates[m][-1])\n",
    "            #print(storedStates[m][-1])\n",
    "        plotlist[0].append(s)\n",
    "        plotlist[1].append(costFunction(trainingData, outputStates))\n",
    "        #plotlist[1].append(np.log10(1-costFunction(trainingData, outputStates)))\n",
    "    \n",
    "    #Optional\n",
    "    runtime = time() - runtime\n",
    "    print(\"Trained \"+str(trainingRounds)+\" rounds for a \"+str(qnnArch)+\" network and \"+str(len(trainingData))+\" training pairs in \"+str(round(runtime, 2))+\" seconds\")\n",
    "    print(costFunction(trainingData, outputStates))\n",
    "    #Return\n",
    "    return [plotlist, currentUnitaries, outputStates]"
   ]
  },
  {
   "cell_type": "code",
   "execution_count": 90,
   "id": "f82ceb7c-d0de-4c55-9fdc-bc5270f2107d",
   "metadata": {},
   "outputs": [
    {
     "name": "stdout",
     "output_type": "stream",
     "text": [
      "(25+0j)\n"
     ]
    }
   ],
   "source": [
    "a=5\n",
    "b=3\n",
    "r=a*qubit0+b*qubit1\n",
    "c=r* r.dag()\n",
    "d=c[0,0]\n",
    "print(d)"
   ]
  },
  {
   "cell_type": "code",
   "execution_count": 105,
   "id": "9e66e13e-f621-4518-9cbf-8a8619eb7ca2",
   "metadata": {
    "tags": []
   },
   "outputs": [
    {
     "name": "stdout",
     "output_type": "stream",
     "text": [
      "[5.    5.005 5.01  5.015 5.02  5.025 5.03  5.035 5.04  5.045 5.05  5.055\n",
      " 5.06  5.065 5.07  5.075 5.08  5.085 5.09  5.095 5.1   5.105 5.11  5.115\n",
      " 5.12  5.125 5.13  5.135 5.14  5.145 5.15  5.155 5.16  5.165 5.17  5.175\n",
      " 5.18  5.185 5.19  5.195 5.2   5.205 5.21  5.215 5.22  5.225 5.23  5.235\n",
      " 5.24  5.245 5.25  5.255 5.26  5.265 5.27  5.275 5.28  5.285 5.29  5.295\n",
      " 5.3   5.305 5.31  5.315 5.32  5.325 5.33  5.335 5.34  5.345 5.35  5.355\n",
      " 5.36  5.365 5.37  5.375 5.38  5.385 5.39  5.395 5.4   5.405 5.41  5.415\n",
      " 5.42  5.425 5.43  5.435 5.44  5.445 5.45  5.455 5.46  5.465 5.47  5.475\n",
      " 5.48  5.485 5.49  5.495 5.5   5.505 5.51  5.515 5.52  5.525 5.53  5.535\n",
      " 5.54  5.545 5.55  5.555 5.56  5.565 5.57  5.575 5.58  5.585 5.59  5.595\n",
      " 5.6   5.605 5.61  5.615 5.62  5.625 5.63  5.635 5.64  5.645 5.65  5.655\n",
      " 5.66  5.665 5.67  5.675 5.68  5.685 5.69  5.695 5.7   5.705 5.71  5.715\n",
      " 5.72  5.725 5.73  5.735 5.74  5.745 5.75  5.755 5.76  5.765 5.77  5.775\n",
      " 5.78  5.785 5.79  5.795 5.8   5.805 5.81  5.815 5.82  5.825 5.83  5.835\n",
      " 5.84  5.845 5.85  5.855 5.86  5.865 5.87  5.875 5.88  5.885 5.89  5.895\n",
      " 5.9   5.905 5.91  5.915 5.92  5.925 5.93  5.935 5.94  5.945 5.95  5.955\n",
      " 5.96  5.965 5.97  5.975 5.98  5.985 5.99  5.995 6.   ]\n"
     ]
    }
   ],
   "source": [
    "a=np.linspace(0,1,201,endpoint=True)\n",
    "b=np.linspace(5,6,201,endpoint=True)\n",
    "print(b)"
   ]
  },
  {
   "cell_type": "code",
   "execution_count": 106,
   "id": "d04ef7e4-13a6-49a5-954d-16d6694cee2d",
   "metadata": {
    "tags": []
   },
   "outputs": [
    {
     "name": "stdout",
     "output_type": "stream",
     "text": [
      "[-0.95892427 -0.952494   -0.94603992 -0.93956219 -0.93306096 -0.92653641\n",
      " -0.9199887  -0.91341799 -0.90682444 -0.90020822 -0.8935695  -0.88690844\n",
      " -0.8802252  -0.87351996 -0.86679288 -0.86004413 -0.85327388 -0.8464823\n",
      " -0.83966956 -0.83283582 -0.82598127 -0.81910606 -0.81221038 -0.80529439\n",
      " -0.79835827 -0.79140219 -0.78442632 -0.77743085 -0.77041594 -0.76338176\n",
      " -0.75632851 -0.74925634 -0.74216545 -0.735056   -0.72792817 -0.72078215\n",
      " -0.71361811 -0.70643622 -0.69923668 -0.69201965 -0.68478532 -0.67753388\n",
      " -0.67026549 -0.66298035 -0.65567864 -0.64836053 -0.64102622 -0.63367587\n",
      " -0.62630969 -0.61892785 -0.61153053 -0.60411793 -0.59669023 -0.5892476\n",
      " -0.58179025 -0.57431835 -0.56683209 -0.55933167 -0.55181726 -0.54428905\n",
      " -0.53674724 -0.529192   -0.52162354 -0.51404204 -0.50644769 -0.49884067\n",
      " -0.49122119 -0.48358942 -0.47594556 -0.46828981 -0.46062235 -0.45294337\n",
      " -0.44525307 -0.43755164 -0.42983927 -0.42211615 -0.41438248 -0.40663845\n",
      " -0.39888426 -0.39112009 -0.38334615 -0.37556262 -0.3677697  -0.35996759\n",
      " -0.35215648 -0.34433656 -0.33650804 -0.3286711  -0.32082595 -0.31297277\n",
      " -0.30511178 -0.29724315 -0.28936709 -0.2814838  -0.27359348 -0.26569631\n",
      " -0.2577925  -0.24988224 -0.24196574 -0.23404319 -0.22611479 -0.21818073\n",
      " -0.21024122 -0.20229646 -0.19434663 -0.18639195 -0.17843261 -0.17046881\n",
      " -0.16250074 -0.15452862 -0.14655263 -0.13857297 -0.13058986 -0.12260347\n",
      " -0.11461403 -0.10662171 -0.09862674 -0.09062929 -0.08262958 -0.07462781\n",
      " -0.06662416 -0.05861886 -0.05061209 -0.04260405 -0.03459494 -0.02658498\n",
      " -0.01857434 -0.01056325 -0.00255189  0.00545954  0.01347083  0.02148178\n",
      "  0.02949219  0.03750187  0.04551061  0.05351821  0.06152447  0.0695292\n",
      "  0.07753218  0.08553323  0.09353214  0.10152872  0.10952275  0.11751405\n",
      "  0.12550241  0.13348763  0.14146951  0.14944786  0.15742247  0.16539314\n",
      "  0.17335968  0.18132189  0.18927956  0.1972325   0.20518051  0.21312339\n",
      "  0.22106095  0.22899297  0.23691928  0.24483965  0.25275391  0.26066185\n",
      "  0.26856327  0.27645798  0.28434578  0.29222647  0.30009985  0.30796573\n",
      "  0.31582391  0.32367419  0.33151639  0.33935029  0.34717571  0.35499246\n",
      "  0.36280032  0.37059912  0.37838865  0.38616873  0.39393915  0.40169972\n",
      "  0.40945024  0.41719054  0.4249204   0.43263964  0.44034806  0.44804547\n",
      "  0.45573169  0.46340651  0.47106974  0.4787212   0.48636069  0.49398802\n",
      "  0.501603    0.50920544  0.51679515  0.52437195  0.53193563  0.53948601\n",
      "  0.54702291  0.55454613  0.56205549]\n"
     ]
    }
   ],
   "source": [
    "y=np.sin(a)+np.sin(b)\n",
    "print(y)"
   ]
  },
  {
   "cell_type": "code",
   "execution_count": 107,
   "id": "0840b723-dff5-4652-b4ea-c4d6ee2d73ff",
   "metadata": {
    "tags": []
   },
   "outputs": [
    {
     "name": "stdout",
     "output_type": "stream",
     "text": [
      "[1.16196685 1.15944168 1.15690717 1.15436337 1.15181035 1.14924816\n",
      " 1.14667688 1.14409657 1.14150729 1.13890911 1.13630209 1.13368629\n",
      " 1.13106179 1.12842865 1.12578693 1.1231367  1.12047803 1.11781099\n",
      " 1.11513563 1.11245203 1.10976025 1.10706036 1.10435243 1.10163653\n",
      " 1.09891272 1.09618108 1.09344166 1.09069454 1.08793979 1.08517748\n",
      " 1.08240767 1.07963044 1.07684585 1.07405398 1.07125489 1.06844865\n",
      " 1.06563534 1.06281502 1.05998776 1.05715364 1.05431273 1.0514651\n",
      " 1.04861081 1.04574994 1.04288256 1.04000875 1.03712857 1.0342421\n",
      " 1.0313494  1.02845056 1.02554564 1.02263472 1.01971787 1.01679516\n",
      " 1.01386666 1.01093245 1.00799261 1.00504719 1.00209629 0.99913997\n",
      " 0.99617831 0.99321138 0.99023925 0.987262   0.9842797  0.98129244\n",
      " 0.97830027 0.97530328 0.97230155 0.96929514 0.96628414 0.96326861\n",
      " 0.96024864 0.95722429 0.95419565 0.95116279 0.94812578 0.94508471\n",
      " 0.94203965 0.93899066 0.93593784 0.93288126 0.92982099 0.9267571\n",
      " 0.92368969 0.92061881 0.91754456 0.914467   0.91138622 0.90830228\n",
      " 0.90521528 0.90212528 0.89903236 0.89593659 0.89283807 0.88973686\n",
      " 0.88663304 0.88352669 0.88041789 0.87730671 0.87419323 0.87107754\n",
      " 0.8679597  0.8648398  0.86171791 0.85859411 0.85546849 0.85234111\n",
      " 0.84921206 0.84608141 0.84294925 0.83981564 0.83668068 0.83354444\n",
      " 0.83040699 0.82726841 0.82412879 0.8209882  0.81784672 0.81470443\n",
      " 0.81156141 0.80841773 0.80527348 0.80212873 0.79898357 0.79583806\n",
      " 0.79269229 0.78954634 0.78640029 0.78325421 0.78010818 0.77696229\n",
      " 0.77381661 0.77067121 0.76752619 0.76438161 0.76123756 0.75809411\n",
      " 0.75495135 0.75180934 0.74866818 0.74552793 0.74238868 0.7392505\n",
      " 0.73611348 0.7329777  0.72984322 0.72671013 0.72357851 0.72044843\n",
      " 0.71731998 0.71419322 0.71106825 0.70794514 0.70482396 0.7017048\n",
      " 0.69858773 0.69547283 0.69236018 0.68924986 0.68614193 0.68303649\n",
      " 0.67993361 0.67683337 0.67373584 0.6706411  0.66754923 0.6644603\n",
      " 0.6613744  0.6582916  0.65521198 0.65213562 0.64906258 0.64599295\n",
      " 0.64292681 0.63986423 0.63680529 0.63375006 0.63069862 0.62765105\n",
      " 0.62460743 0.62156782 0.61853231 0.61550098 0.61247388 0.60945112\n",
      " 0.60643275 0.60341885 0.60040951 0.59740479 0.59440477 0.59140952\n",
      " 0.58841913 0.58543365 0.58245318 0.57947778 0.57650753 0.5735425\n",
      " 0.57058277 0.56762841 0.56467949]\n"
     ]
    }
   ],
   "source": [
    "a=a*((np.pi)/2)\n",
    "b=b/2*((np.pi)/2)\n",
    "\n",
    "x=np.c_[a,b]\n",
    "y = ((2-y)/4)*((np.pi)/2)\n",
    "#print(x)\n",
    "print(y)"
   ]
  },
  {
   "cell_type": "code",
   "execution_count": 86,
   "id": "b8298fa5-9fd2-4368-84d1-0fda84571689",
   "metadata": {
    "tags": []
   },
   "outputs": [
    {
     "ename": "NameError",
     "evalue": "name 'qb_trans' is not defined",
     "output_type": "error",
     "traceback": [
      "\u001b[1;31m---------------------------------------------------------------------------\u001b[0m",
      "\u001b[1;31mNameError\u001b[0m                                 Traceback (most recent call last)",
      "\u001b[1;32m<ipython-input-86-853f570b177f>\u001b[0m in \u001b[0;36m<module>\u001b[1;34m\u001b[0m\n\u001b[1;32m----> 1\u001b[1;33m \u001b[0ma\u001b[0m\u001b[1;33m=\u001b[0m\u001b[0mqb_trans\u001b[0m\u001b[1;33m(\u001b[0m\u001b[0mnp\u001b[0m\u001b[1;33m.\u001b[0m\u001b[0mpi\u001b[0m\u001b[1;33m/\u001b[0m\u001b[1;36m4\u001b[0m\u001b[1;33m,\u001b[0m\u001b[0mnp\u001b[0m\u001b[1;33m.\u001b[0m\u001b[0mpi\u001b[0m\u001b[1;33m/\u001b[0m\u001b[1;36m2\u001b[0m\u001b[1;33m)\u001b[0m\u001b[1;33m\u001b[0m\u001b[1;33m\u001b[0m\u001b[0m\n\u001b[0m\u001b[0;32m      2\u001b[0m \u001b[0mprint\u001b[0m\u001b[1;33m(\u001b[0m\u001b[0ma\u001b[0m\u001b[1;33m)\u001b[0m\u001b[1;33m\u001b[0m\u001b[1;33m\u001b[0m\u001b[0m\n",
      "\u001b[1;31mNameError\u001b[0m: name 'qb_trans' is not defined"
     ]
    }
   ],
   "source": [
    "a=qb_trans(np.pi/4,np.pi/2)\n",
    "print(a)"
   ]
  },
  {
   "cell_type": "code",
   "execution_count": 108,
   "id": "8590101d-6ff5-4c60-8571-61c2b88db87c",
   "metadata": {},
   "outputs": [
    {
     "data": {
      "text/plain": [
       "'\\np_x_train=sigmoid(0.0056,x_train,0.25)\\np_y_train=sigmoid(y_train,x_train,0.31)\\np_x_test=sigmoid(0.0056,x_test,0.25)\\np_x_train=sigmoid(x_train)\\np_y_train=sigmoid(y_train)\\np_x_test=sigmoid(x_test)\\n'"
      ]
     },
     "execution_count": 108,
     "metadata": {},
     "output_type": "execute_result"
    }
   ],
   "source": [
    "x_train,x_test,y_train,y_test = train_test_split(x, y,test_size=0.2,random_state=1)\n",
    "'''\n",
    "p_x_train=sigmoid(0.0056,x_train,0.25)\n",
    "p_y_train=sigmoid(y_train,x_train,0.31)\n",
    "p_x_test=sigmoid(0.0056,x_test,0.25)\n",
    "p_x_train=sigmoid(x_train)\n",
    "p_y_train=sigmoid(y_train)\n",
    "p_x_test=sigmoid(x_test)\n",
    "'''"
   ]
  },
  {
   "cell_type": "code",
   "execution_count": 116,
   "id": "4ee890af-c795-4a61-84d5-55e57cbb2173",
   "metadata": {
    "tags": []
   },
   "outputs": [
    {
     "name": "stdout",
     "output_type": "stream",
     "text": [
      "Quantum object: dims = [[2, 2], [1, 1]], shape = (4, 1), type = ket\n",
      "Qobj data =\n",
      "[[-0.16931285]\n",
      " [-0.54276674]\n",
      " [-0.2449753 ]\n",
      " [-0.7853181 ]]\n",
      "Quantum object: dims = [[2, 2], [1, 1]], shape = (4, 1), type = ket\n",
      "Qobj data =\n",
      "[[0.88547898]\n",
      " [0.        ]\n",
      " [0.46467943]\n",
      " [0.        ]]\n"
     ]
    }
   ],
   "source": [
    "trainingData=[]\n",
    "for i in range(len(x_train)):\n",
    "    u=qb_xtrans(x_train[i][0],x_train[i][1])\n",
    "    u=qt.tensor(qb_ytrans(x_train[i][0]),qb_ytrans(x_train[i][1]))\n",
    "    \n",
    "    #ut=qb_trans(sigmoid(y_train[i],x_train[i],0.8))\n",
    "    ut=qt.tensor(qb_ytrans(y_train[i]), qubit0)\n",
    "\n",
    "    #print(ut[0]**2)\n",
    "    #print(ut[0,0])\n",
    "    trainingData.append([u,ut])\n",
    "print(trainingData[40][0])\n",
    "print(trainingData[40][1])"
   ]
  },
  {
   "cell_type": "code",
   "execution_count": null,
   "id": "6fcf626f-c7a5-42af-8c84-5cf500fc69b5",
   "metadata": {},
   "outputs": [],
   "source": []
  },
  {
   "cell_type": "code",
   "execution_count": 110,
   "id": "0196ddef-0036-497a-ab31-6aa952dc1b99",
   "metadata": {
    "tags": []
   },
   "outputs": [
    {
     "name": "stdout",
     "output_type": "stream",
     "text": [
      "In training round 0\n",
      "In training round 10\n",
      "In training round 20\n",
      "In training round 30\n",
      "In training round 40\n",
      "In training round 50\n",
      "In training round 60\n",
      "In training round 70\n",
      "In training round 80\n",
      "In training round 90\n",
      "Trained 100 rounds for a [2, 3, 4, 3, 2] network and 160 training pairs in 1673.72 seconds\n",
      "0.9664130330715495\n"
     ]
    },
    {
     "data": {
      "image/png": "[encoded data removed]",
      "text/plain": [
       "<Figure size 432x288 with 1 Axes>"
      ]
     },
     "metadata": {
      "needs_background": "light"
     },
     "output_type": "display_data"
    }
   ],
   "source": [
    "network23432 = randomNetwork([2,3,4,3,2])\n",
    "trained23432_result=qnnTraining(network23432[0], network23432[1], trainingData, 1, 0.1, 100, 10)\n",
    "plotlist23432 = trained23432_result[0]\n",
    "\n",
    "for i in range(len(plotlist23432[1])):\n",
    "    if plotlist23432[1][i] >= 0.9999:\n",
    "        print(\"Exceeds cost of 0.9999 at training step \"+str(i))\n",
    "        break\n",
    "\n",
    "plt.plot(plotlist23432[0][5:], plotlist23432[1][5:])\n",
    "plt.xlabel(\"s\")\n",
    "plt.ylabel(\"Cost[s]\")\n",
    "plt.show()"
   ]
  },
  {
   "cell_type": "code",
   "execution_count": 112,
   "id": "3b89cfc9-33a9-4824-9c92-71f781148c5b",
   "metadata": {
    "tags": []
   },
   "outputs": [
    {
     "name": "stdout",
     "output_type": "stream",
     "text": [
      "Quantum object: dims = [[2, 2], [2, 2]], shape = (4, 4), type = oper, isherm = True\n",
      "Qobj data =\n",
      "[[ 4.52084552e-01+0.j          7.53732405e-03+0.01551842j\n",
      "   4.77715377e-01-0.02597236j -2.20363364e-03+0.0024976j ]\n",
      " [ 7.53732405e-03-0.01551842j  7.01586527e-03+0.j\n",
      "   8.49512076e-03-0.01512478j -5.33540643e-04+0.00213857j]\n",
      " [ 4.77715377e-01+0.02597236j  8.49512076e-03+0.01512478j\n",
      "   5.35768602e-01+0.j         -2.50328652e-03+0.00525608j]\n",
      " [-2.20363364e-03-0.0024976j  -5.33540643e-04-0.00213857j\n",
      "  -2.50328652e-03-0.00525608j  5.13098069e-03+0.j        ]]\n"
     ]
    }
   ],
   "source": [
    "#x*(-np.log((np.pi/(2*(np.arccos(y**(1/2)))))-1))**(1/gamma)\n",
    "train_out=trained23432_result[2]\n",
    "train_out_y_list=[]\n",
    "print(train_out[1])"
   ]
  },
  {
   "cell_type": "code",
   "execution_count": 113,
   "id": "760cceee-aa1a-4e46-8ff2-1d1f79f02b8d",
   "metadata": {
    "tags": []
   },
   "outputs": [
    {
     "name": "stdout",
     "output_type": "stream",
     "text": [
      "[0.44257591 0.48012991 0.29002226 0.18530129 0.28468582 0.19577431\n",
      " 0.27156509 0.2414279  0.42089218 0.49585187 0.70014843 0.33153598\n",
      " 0.6376061  0.27677504 0.22711338 0.65803368 0.59250202 0.62275585\n",
      " 0.71361973 0.66949756 0.3202211  0.38132634 0.56786804 0.24877708\n",
      " 0.19153904 0.16742301 0.67233823 0.40860816 0.26384817 0.31184782\n",
      " 0.43325687 0.27939929 0.64933379 0.43015881 0.47071051 0.61976208\n",
      " 0.46130809 0.18121987 0.47384869 0.39641692 0.48327255 0.58330308\n",
      " 0.48641627 0.35464625 0.46757421 0.50528988 0.18325285 0.35757706\n",
      " 0.70286677 0.65514317 0.25625131 0.67516848 0.23420598 0.60468425\n",
      " 0.67798816 0.58022592 0.42706521 0.41781314 0.70826759 0.54608217\n",
      " 0.64055124 0.33725531 0.20007069 0.38433029 0.57714364 0.16174323\n",
      " 0.32303398 0.36642164 0.5709645  0.1693474  0.45505194 0.15803451\n",
      " 0.66664662 0.34301429 0.4519281  0.30907898 0.28203626 0.69741829\n",
      " 0.37534092 0.59860561 0.25877009 0.30084109 0.33439061 0.3873415\n",
      " 0.56166228 0.60164814 0.69467648 0.37235981 0.5241512  0.17720033\n",
      " 0.22477824 0.36051667 0.66378556 0.41167094 0.48956086 0.20442789\n",
      " 0.49270613 0.1752138  0.63169041 0.42397627 0.57405643 0.52101036\n",
      " 0.44568989 0.68359527 0.30632148 0.18736515 0.24631335 0.61073646\n",
      " 0.43946562 0.35172441 0.2741636  0.211077   0.34012992 0.25125471\n",
      " 0.2066292  0.16362093 0.62872019 0.26640727 0.56476723 0.50843547\n",
      " 0.68915841 0.22015196 0.47698856 0.45817867 0.64641524 0.1732428\n",
      " 0.29540768 0.49899788 0.15988109 0.28734786 0.20224171 0.29811845\n",
      " 0.30357548 0.17128733 0.7055732  0.53982799 0.36938666 0.39945538\n",
      " 0.31741902 0.26897961 0.54295646 0.58944132 0.58637495 0.53356356\n",
      " 0.55544071 0.41473932 0.19791488 0.65224315 0.20884558 0.51786817\n",
      " 0.32585752 0.50214395 0.54920491 0.69192314 0.34881169 0.51472482\n",
      " 0.52729048 0.32869157 0.53669696 0.23659902]\n",
      "[0.42394802262632914, 0.45208455203589226, 0.31561059264663754, 0.2808739740978501, 0.31261884642762655, 0.28143386162115136, 0.30568552406370947, 0.29240988763976694, 0.40740101992395883, 0.46348474160510794, 0.5606785371900154, 0.3416649772822187, 0.5445129063761364, 0.30836361288789543, 0.28763532341032605, 0.5514593314400383, 0.5242391195411222, 0.538548807150095, 0.5620363590934956, 0.5546772282241114, 0.3341350667863456, 0.37738704481003615, 0.5106830704582951, 0.29526910848070753, 0.2811073953772067, 0.28196497764630807, 0.5553954779263376, 0.3980206043849961, 0.3019123833999576, 0.32875235024774085, 0.416847315250661, 0.30975059126392845, 0.5486857074214453, 0.41448203900624414, 0.4451283112394169, 0.5372583083206109, 0.43810757439660286, 0.28088696269153046, 0.4474551462147661, 0.38875098383634754, 0.4543857524311369, 0.5193629370767834, 0.45667704412411814, 0.3578085863465552, 0.44279430789113783, 0.470179258323385, 0.2808637489982744, 0.35991715673897506, 0.5610178638937694, 0.550568945775906, 0.2984382443348594, 0.5560791596566599, 0.2898643920695901, 0.5303314983268346, 0.5567282577768959, 0.517681135225895, 0.41211875860718306, 0.40504797630939127, 0.5615945995105426, 0.49746463261621776, 0.5456065303608728, 0.3455719809841412, 0.2818985454497556, 0.3796363814343695, 0.5159718140659909, 0.2829019435828082, 0.3359807269802231, 0.36634936921010497, 0.5124723369080051, 0.28171477775541776, 0.43340052990474787, 0.28367855395929, 0.5539244395703172, 0.3495679359770913, 0.4310411465969109, 0.32701112863530424, 0.31116911131509, 0.5603050801710198, 0.3729282136422465, 0.5273449865894705, 0.2995626755335237, 0.3219529149629809, 0.3436070849364732, 0.3818981150670729, 0.5070277879321655, 0.5288533358735794, 0.5598973904437428, 0.37072003115325763, 0.4831592030939652, 0.28103277637453217, 0.2869629245240694, 0.3620438880719372, 0.5531371543983353, 0.40035706622274564, 0.4589577522273351, 0.2825025330769704, 0.46122720649574644, 0.2811548816057409, 0.5422258520996345, 0.40975818293035793, 0.5142354015524156, 0.4810379336957321, 0.42631418536007626, 0.5579227073161764, 0.3252971866877533, 0.28091785543722936, 0.29428138895133715, 0.5331959450211945, 0.4215810169156602, 0.35571878379590915, 0.3070084901123894, 0.28367157207459925, 0.3475591171226392, 0.2962912720827349, 0.282857048395526, 0.2825588865795197, 0.5410328155232135, 0.30313720203463174, 0.5088680634613326, 0.4723825715700949, 0.5589789675159922, 0.2857242722890654, 0.44977412218768614, 0.43575624043995, 0.5476930876813274, 0.2813094364113843, 0.3187229678300492, 0.46572969742784176, 0.28327528338686125, 0.31409945741620093, 0.2821830664999063, 0.3203234434577072, 0.32361097051376414, 0.28149616437575953, 0.5613231754113638, 0.49348016270333867, 0.36852686923383016, 0.3910555688470241, 0.33231479278477505, 0.3043950029643859, 0.4954832371857498, 0.5226423283179676, 0.5210168030901225, 0.489411190104402, 0.5032733720327947, 0.40269975728371354, 0.28164885360373515, 0.5496443678557021, 0.28324670247764006, 0.4788990232580617, 0.33785127367230505, 0.4679614193063147, 0.49942380702407757, 0.5594553784427638, 0.3536483483380932, 0.47674308074261906, 0.48526223003828756, 0.3397461970291761, 0.4914559603113459, 0.2906778426043407]\n",
      "train_MSE: 0.004691809962541487\n",
      "train_RMSE: 0.06849678797244063\n",
      "train_MAE: 0.0549247524691179\n",
      "train_MAPE: 0.16183670874999662\n",
      "train_R2: 0.8298548971479102\n"
     ]
    },
    {
     "name": "stderr",
     "output_type": "stream",
     "text": [
      "<ipython-input-113-f20cb9763920>:7: ComplexWarning: Casting complex values to real discards the imaginary part\n",
      "  train_out_y_list.append(float(train_out_y))\n"
     ]
    }
   ],
   "source": [
    "for i in range(len(y_train)):\n",
    "    \n",
    "    train_out_y=train_out[i][0,0]\n",
    "    #print(train_out_y)\n",
    "    #train_out_y=ver_sigmoid(0.5,train_out_y,0.31)\n",
    "    #train_out_y=ver_sigmoid(train_out_y)\n",
    "    train_out_y_list.append(float(train_out_y))\n",
    "    #print(sigmoid(0.0056,x_train[i],0.25))\n",
    "    #print(np.cos(sigmoid(y_train[i],x_train[i],0.25))**2)\n",
    "    #print(train_out_y)\n",
    "    #print(ver_sigmoid(x_train[i],train_out_y,0.25))\n",
    "    #print(y_train[i])\n",
    "    #print(x_train[i])\n",
    "y_train=np.cos(y_train)**2\n",
    "print(y_train)\n",
    "print(train_out_y_list)\n",
    "\n",
    "train_MSE=metrics.mean_squared_error(y_train,train_out_y_list)\n",
    "train_RMSE=train_MSE**(1/2)\n",
    "\n",
    "train_MAE=metrics.mean_absolute_error(y_train,train_out_y_list)\n",
    "train_MAPE=metrics.mean_absolute_percentage_error(y_train,train_out_y_list)\n",
    "train_R2=metrics.r2_score(y_train, train_out_y_list)\n",
    "print(\"train_MSE:\",train_MSE)\n",
    "print(\"train_RMSE:\",train_RMSE)\n",
    "print(\"train_MAE:\",train_MAE)\n",
    "print(\"train_MAPE:\",train_MAPE)\n",
    "print(\"train_R2:\",train_R2)"
   ]
  },
  {
   "cell_type": "code",
   "execution_count": 114,
   "id": "038b43cf-ca72-456f-a067-4d193eb43c94",
   "metadata": {
    "tags": []
   },
   "outputs": [
    {
     "data": {
      "image/png": "[encoded data removed]",
      "text/plain": [
       "<Figure size 432x288 with 1 Axes>"
      ]
     },
     "metadata": {
      "needs_background": "light"
     },
     "output_type": "display_data"
    }
   ],
   "source": [
    "plt.scatter(a[0:160],y_train,c=\"r\",alpha=0.5,label=\"ture\") \n",
    "plt.scatter(a[0:160],train_out_y_list,c=\"b\",alpha=0.5,label=\"predict\")\n",
    "plt.legend(loc=\"best\")\n",
    "plt.show()"
   ]
  },
  {
   "cell_type": "code",
   "execution_count": 115,
   "id": "4399672b-c7cc-4aaf-8de1-1b6aadc83a3d",
   "metadata": {
    "tags": []
   },
   "outputs": [
    {
     "data": {
      "text/plain": [
       "<function matplotlib.pyplot.show(close=None, block=None)>"
      ]
     },
     "execution_count": 115,
     "metadata": {},
     "output_type": "execute_result"
    },
    {
     "data": {
      "image/png": "[encoded data removed]",
      "text/plain": [
       "<Figure size 432x288 with 1 Axes>"
      ]
     },
     "metadata": {
      "needs_background": "light"
     },
     "output_type": "display_data"
    }
   ],
   "source": [
    "plt.plot(y_train,train_out_y_list)\n",
    "plt.xlabel(\"Actual value\")\n",
    "plt.ylabel(\"Predicted Value\")\n",
    "plt.show"
   ]
  },
  {
   "cell_type": "code",
   "execution_count": 29,
   "id": "8952f6f9-dc97-41a1-9b6d-e656a83a31c2",
   "metadata": {
    "collapsed": true,
    "jupyter": {
     "outputs_hidden": true
    },
    "tags": []
   },
   "outputs": [
    {
     "name": "stdout",
     "output_type": "stream",
     "text": [
      "[0.3272786  0.33278976 0.31262972 0.2975796  0.34278497 0.3394472\n",
      " 0.29139055 0.32084748 0.24945025 0.2797944  0.34347399 0.2967653\n",
      " 0.34243374 0.26818843 0.33904982 0.3315085  0.29235104 0.34814263\n",
      " 0.32603727 0.34544085 0.29990466 0.3417173  0.27688094 0.33044019\n",
      " 0.29419017 0.30409805 0.34295888 0.30600216 0.34397941 0.32635261\n",
      " 0.34682623 0.29040061 0.3013652  0.32474059 0.34447549 0.33631707\n",
      " 0.32303449 0.33761198 0.3275808  0.31636597 0.34652456]\n",
      "[0.23934382896491974, 0.23909875836047256, 0.24000611451821802, 0.24068759431891598, 0.23866331085521347, 0.23880727847560673, 0.24096231218546937, 0.23963316429395276, 0.24252346799179542, 0.24145804244376365, 0.23863378586107975, 0.24072402240295696, 0.23867838726061108, 0.24191536856411638, 0.23882451967777274, 0.23915545496945984, 0.24092003730730505, 0.23843557329230924, 0.2393994276236709, 0.23854988389523377, 0.24058320365379382, 0.23870919459541395, 0.2415771880742152, 0.2392028624419347, 0.2408386947175485, 0.24039379621365725, 0.23865585210005894, 0.24030744483843614, 0.23861217160193487, 0.2393852908981812, 0.23849113086816223, 0.24100572331651401, 0.24051737785402483, 0.23945764253851387, 0.23859099324372052, 0.23894364239194915, 0.23953443547110873, 0.238887077135562, 0.23933031413788747, 0.23983627165536497, 0.23850389976089484]\n",
      "test_MSE: 0.006994259875391649\n",
      "test_RMSE: 0.08363169181232465\n",
      "test_MAE: 0.07954553495059244\n",
      "test_MAPE: 0.24398695431847117\n"
     ]
    },
    {
     "name": "stderr",
     "output_type": "stream",
     "text": [
      "<ipython-input-29-8076a2a7a8e7>:23: ComplexWarning: Casting complex values to real discards the imaginary part\n",
      "  outputStates.append(float(t_out))\n"
     ]
    }
   ],
   "source": [
    "#################test####################\n",
    "testData=[]\n",
    "for i in range(len(p_x_test)):\n",
    "    u=qb_trans(p_x_test[i])\n",
    "    #print(u)\n",
    "    testData.append([u])\n",
    "    \n",
    "#y_test=(np.cos(sigmoid(y_test)))**2\n",
    "\n",
    "learnedUnitaries = trained23432_result[1]\n",
    "\n",
    "storedStates = feedforward([1,2,1], learnedUnitaries, testData)\n",
    "outputStates = []\n",
    "for k in range(len(storedStates)):\n",
    "    t_qstate=storedStates[k][-1]\n",
    "    #print(t_qstate)\n",
    "    t_out=t_qstate[0,0]\n",
    "    #t_out=ver_sigmoid(x_test[k],t_out,0.8)\n",
    "    #t_out=ver_sigmoid(t_out)\n",
    "    #print(t_out)\n",
    "    #print(y_test[k])\n",
    "    #t_out=np.arccos(t_out**(1/2))\n",
    "    outputStates.append(float(t_out))\n",
    "\n",
    "    \n",
    "y_test=np.cos(y_test)**2\n",
    "print(y_test)\n",
    "print(outputStates)\n",
    "train_MSE=metrics.mean_squared_error(y_test,outputStates)\n",
    "train_RMSE=train_MSE**(1/2)\n",
    "train_MAE=metrics.mean_absolute_error(y_test,outputStates)\n",
    "train_MAPE=metrics.mean_absolute_percentage_error(y_test,outputStates)\n",
    "print(\"test_MSE:\",train_MSE)\n",
    "print(\"test_RMSE:\",train_RMSE)\n",
    "print(\"test_MAE:\",train_MAE)\n",
    "print(\"test_MAPE:\",train_MAPE)\n",
    "#print(\"output:\",outputStates)\n",
    "#print(\"y:\",y_test)"
   ]
  },
  {
   "cell_type": "code",
   "execution_count": null,
   "id": "15cad948-6d13-4cbb-b004-200a2c34627c",
   "metadata": {},
   "outputs": [],
   "source": [
    "R^2,C,log(1-C),y and y_ture plot"
   ]
  },
  {
   "cell_type": "code",
   "execution_count": 70,
   "id": "8236022d-82c3-46df-ba85-99709f39ac54",
   "metadata": {
    "collapsed": true,
    "jupyter": {
     "outputs_hidden": true
    },
    "tags": []
   },
   "outputs": [
    {
     "name": "stdout",
     "output_type": "stream",
     "text": [
      "[Quantum object: dims = [[2], [2]], shape = (2, 2), type = oper, isherm = True\n",
      "Qobj data =\n",
      "[[ 0.93596825+0.j         -0.14264181+0.00825384j]\n",
      " [-0.14264181-0.00825384j  0.06403175+0.j        ]], Quantum object: dims = [[2], [2]], shape = (2, 2), type = oper, isherm = True\n",
      "Qobj data =\n",
      "[[ 0.8935347+0.j         -0.2198672-0.02518756j]\n",
      " [-0.2198672+0.02518756j  0.1064653+0.j        ]], Quantum object: dims = [[2], [2]], shape = (2, 2), type = oper, isherm = True\n",
      "Qobj data =\n",
      "[[ 0.87773555+0.j         -0.19295891-0.05027482j]\n",
      " [-0.19295891+0.05027482j  0.12226445+0.j        ]], Quantum object: dims = [[2], [2]], shape = (2, 2), type = oper, isherm = True\n",
      "Qobj data =\n",
      "[[0.92006712+0.j         0.10220457-0.06643182j]\n",
      " [0.10220457+0.06643182j 0.07993288+0.j        ]], Quantum object: dims = [[2], [2]], shape = (2, 2), type = oper, isherm = True\n",
      "Qobj data =\n",
      "[[ 0.88229031+0.j         -0.20692743-0.04163235j]\n",
      " [-0.20692743+0.04163235j  0.11770969+0.j        ]], Quantum object: dims = [[2], [2]], shape = (2, 2), type = oper, isherm = True\n",
      "Qobj data =\n",
      "[[0.93700385+0.j         0.10277286-0.04621572j]\n",
      " [0.10277286+0.04621572j 0.06299615+0.j        ]], Quantum object: dims = [[2], [2]], shape = (2, 2), type = oper, isherm = True\n",
      "Qobj data =\n",
      "[[ 0.89755709+0.j         -0.22002456-0.02031997j]\n",
      " [-0.22002456+0.02031997j  0.10244291+0.j        ]], Quantum object: dims = [[2], [2]], shape = (2, 2), type = oper, isherm = True\n",
      "Qobj data =\n",
      "[[ 0.93946783+0.j         -0.12733076+0.00898179j]\n",
      " [-0.12733076-0.00898179j  0.06053217+0.j        ]], Quantum object: dims = [[2], [2]], shape = (2, 2), type = oper, isherm = True\n",
      "Qobj data =\n",
      "[[ 0.95154959+0.j         -0.04425388+0.00463495j]\n",
      " [-0.04425388-0.00463495j  0.04845041+0.j        ]], Quantum object: dims = [[2], [2]], shape = (2, 2), type = oper, isherm = True\n",
      "Qobj data =\n",
      "[[ 0.87945928+0.j         -0.19919803-0.04678782j]\n",
      " [-0.19919803+0.04678782j  0.12054072+0.j        ]], Quantum object: dims = [[2], [2]], shape = (2, 2), type = oper, isherm = True\n",
      "Qobj data =\n",
      "[[ 0.88392564+0.j         -0.21032148-0.03889742j]\n",
      " [-0.21032148+0.03889742j  0.11607436+0.j        ]], Quantum object: dims = [[2], [2]], shape = (2, 2), type = oper, isherm = True\n",
      "Qobj data =\n",
      "[[0.88316988+0.j         0.00151044-0.08789494j]\n",
      " [0.00151044+0.08789494j 0.11683012+0.j        ]], Quantum object: dims = [[2], [2]], shape = (2, 2), type = oper, isherm = True\n",
      "Qobj data =\n",
      "[[ 0.95131304+0.j         -0.04699493+0.00497307j]\n",
      " [-0.04699493-0.00497307j  0.04868696+0.j        ]], Quantum object: dims = [[2], [2]], shape = (2, 2), type = oper, isherm = True\n",
      "Qobj data =\n",
      "[[ 0.89090118+0.j         -0.21868528-0.02861938j]\n",
      " [-0.21868528+0.02861938j  0.10909882+0.j        ]], Quantum object: dims = [[2], [2]], shape = (2, 2), type = oper, isherm = True\n",
      "Qobj data =\n",
      "[[ 0.9517751 +0.j         -0.04151637+0.00428438j]\n",
      " [-0.04151637-0.00428438j  0.0482249 +0.j        ]], Quantum object: dims = [[2], [2]], shape = (2, 2), type = oper, isherm = True\n",
      "Qobj data =\n",
      "[[ 0.93539197+0.j        -0.14496723+0.0080895j]\n",
      " [-0.14496723-0.0080895j  0.06460803+0.j       ]], Quantum object: dims = [[2], [2]], shape = (2, 2), type = oper, isherm = True\n",
      "Qobj data =\n",
      "[[0.9350865 +0.j         0.10450332-0.04891176j]\n",
      " [0.10450332+0.04891176j 0.0649135 +0.j        ]], Quantum object: dims = [[2], [2]], shape = (2, 2), type = oper, isherm = True\n",
      "Qobj data =\n",
      "[[0.95371534+0.j         0.02297541-0.00802572j]\n",
      " [0.02297541+0.00802572j 0.04628466+0.j        ]], Quantum object: dims = [[2], [2]], shape = (2, 2), type = oper, isherm = True\n",
      "Qobj data =\n",
      "[[ 0.87379939+0.j         -0.1707165 -0.06005253j]\n",
      " [-0.1707165 +0.06005253j  0.12620061+0.j        ]], Quantum object: dims = [[2], [2]], shape = (2, 2), type = oper, isherm = True\n",
      "Qobj data =\n",
      "[[ 0.92178642+0.j        -0.18777421+0.0014639j]\n",
      " [-0.18777421-0.0014639j  0.07821358+0.j       ]], Quantum object: dims = [[2], [2]], shape = (2, 2), type = oper, isherm = True\n",
      "Qobj data =\n",
      "[[ 0.87480626+0.j         -0.05599964-0.08488583j]\n",
      " [-0.05599964+0.08488583j  0.12519374+0.j        ]], Quantum object: dims = [[2], [2]], shape = (2, 2), type = oper, isherm = True\n",
      "Qobj data =\n",
      "[[0.94041914+0.j         0.09810939-0.04105444j]\n",
      " [0.09810939+0.04105444j 0.05958086+0.j        ]], Quantum object: dims = [[2], [2]], shape = (2, 2), type = oper, isherm = True\n",
      "Qobj data =\n",
      "[[0.90663526+0.j         0.08172625-0.07791778j]\n",
      " [0.08172625+0.07791778j 0.09336474+0.j        ]], Quantum object: dims = [[2], [2]], shape = (2, 2), type = oper, isherm = True\n",
      "Qobj data =\n",
      "[[ 0.93012093+0.j         -0.16408756+0.00609836j]\n",
      " [-0.16408756-0.00609836j  0.06987907+0.j        ]], Quantum object: dims = [[2], [2]], shape = (2, 2), type = oper, isherm = True\n",
      "Qobj data =\n",
      "[[0.93063962+0.j         0.10649908-0.05470661j]\n",
      " [0.10649908+0.05470661j 0.06936038+0.j        ]], Quantum object: dims = [[2], [2]], shape = (2, 2), type = oper, isherm = True\n",
      "Qobj data =\n",
      "[[0.88828603+0.j         0.02553504-0.08720322j]\n",
      " [0.02553504+0.08720322j 0.11171397+0.j        ]], Quantum object: dims = [[2], [2]], shape = (2, 2), type = oper, isherm = True\n",
      "Qobj data =\n",
      "[[ 0.91812675+0.j         -0.19602343-0.00105953j]\n",
      " [-0.19602343+0.00105953j  0.08187325+0.j        ]], Quantum object: dims = [[2], [2]], shape = (2, 2), type = oper, isherm = True\n",
      "Qobj data =\n",
      "[[0.95389018+0.j         0.01233436-0.00539999j]\n",
      " [0.01233436+0.00539999j 0.04610982+0.j        ]], Quantum object: dims = [[2], [2]], shape = (2, 2), type = oper, isherm = True\n",
      "Qobj data =\n",
      "[[ 0.90837783+0.j         -0.21217668-0.00910326j]\n",
      " [-0.21217668+0.00910326j  0.09162217+0.j        ]], Quantum object: dims = [[2], [2]], shape = (2, 2), type = oper, isherm = True\n",
      "Qobj data =\n",
      "[[ 0.87167324+0.j         -0.09961125-0.07874873j]\n",
      " [-0.09961125+0.07874873j  0.12832676+0.j        ]], Quantum object: dims = [[2], [2]], shape = (2, 2), type = oper, isherm = True\n",
      "Qobj data =\n",
      "[[ 0.9442094+0.j         -0.1024489+0.00902893j]\n",
      " [-0.1024489-0.00902893j  0.0557906+0.j        ]], Quantum object: dims = [[2], [2]], shape = (2, 2), type = oper, isherm = True\n",
      "Qobj data =\n",
      "[[ 0.88782294+0.j         -0.21604451-0.03291658j]\n",
      " [-0.21604451+0.03291658j  0.11217706+0.j        ]], Quantum object: dims = [[2], [2]], shape = (2, 2), type = oper, isherm = True\n",
      "Qobj data =\n",
      "[[ 0.94375772+0.j         -0.10508036+0.00908375j]\n",
      " [-0.10508036-0.00908375j  0.05624228+0.j        ]], Quantum object: dims = [[2], [2]], shape = (2, 2), type = oper, isherm = True\n",
      "Qobj data =\n",
      "[[ 0.94647178+0.j         -0.08816314+0.00850347j]\n",
      " [-0.08816314-0.00850347j  0.05352822+0.j        ]], Quantum object: dims = [[2], [2]], shape = (2, 2), type = oper, isherm = True\n",
      "Qobj data =\n",
      "[[ 0.90401615+0.j         -0.21667799-0.01332081j]\n",
      " [-0.21667799+0.01332081j  0.09598385+0.j        ]], Quantum object: dims = [[2], [2]], shape = (2, 2), type = oper, isherm = True\n",
      "Qobj data =\n",
      "[[0.95319839+0.j         0.03547004-0.01148321j]\n",
      " [0.03547004+0.01148321j 0.04680161+0.j        ]], Quantum object: dims = [[2], [2]], shape = (2, 2), type = oper, isherm = True\n",
      "Qobj data =\n",
      "[[ 0.91511618+0.j         -0.20190335-0.00334111j]\n",
      " [-0.20190335+0.00334111j  0.08488382+0.j        ]], Quantum object: dims = [[2], [2]], shape = (2, 2), type = oper, isherm = True\n",
      "Qobj data =\n",
      "[[0.91266676+0.j         0.09288721-0.07320623j]\n",
      " [0.09288721+0.07320623j 0.08733324+0.j        ]], Quantum object: dims = [[2], [2]], shape = (2, 2), type = oper, isherm = True\n",
      "Qobj data =\n",
      "[[ 0.90041463+0.j         -0.21905745-0.01710694j]\n",
      " [-0.21905745+0.01710694j  0.09958537+0.j        ]], Quantum object: dims = [[2], [2]], shape = (2, 2), type = oper, isherm = True\n",
      "Qobj data =\n",
      "[[0.9509311 +0.j         0.06006085-0.01978933j]\n",
      " [0.06006085+0.01978933j 0.0490689 +0.j        ]], Quantum object: dims = [[2], [2]], shape = (2, 2), type = oper, isherm = True\n",
      "Qobj data =\n",
      "[[ 0.89031199+0.j         -0.21829095-0.02941666j]\n",
      " [-0.21829095+0.02941666j  0.10968801+0.j        ]]]\n"
     ]
    }
   ],
   "source": [
    "print(outputStates)"
   ]
  },
  {
   "cell_type": "code",
   "execution_count": 109,
   "id": "aef51460-d379-44a3-af3d-5a2f34a70ed7",
   "metadata": {},
   "outputs": [
    {
     "name": "stdout",
     "output_type": "stream",
     "text": [
      "0.43588143066671764\n",
      "1.783391219557539\n",
      "1.764616804798287\n"
     ]
    }
   ],
   "source": [
    "a=1.7833912195575383\n",
    "b=sigmoid(a,5.95,1.5)\n",
    "c=np.cos(b)**2\n",
    "print(c)\n",
    "d1=ver_sigmoid(5.95,c,1.5)\n",
    "d2=ver_sigmoid(5.95,c+0.001,1.5)\n",
    "print(d1)\n",
    "print(d2)"
   ]
  },
  {
   "cell_type": "code",
   "execution_count": 147,
   "id": "0c3be167-d5c6-4729-a81a-ef0fb173c0b9",
   "metadata": {},
   "outputs": [
    {
     "name": "stdout",
     "output_type": "stream",
     "text": [
      "0.21755146118745544\n",
      "0.7395639939354887\n"
     ]
    }
   ],
   "source": [
    "t=2.5\n",
    "t=(0.0056/t)**0.25\n",
    "print(t)\n",
    "s=1.78\n",
    "s=(s/5.95)**0.25\n",
    "print(s)"
   ]
  },
  {
   "cell_type": "code",
   "execution_count": 105,
   "id": "2aa27622-1cce-4c81-9ca5-31c46b8445e8",
   "metadata": {
    "tags": []
   },
   "outputs": [
    {
     "name": "stdout",
     "output_type": "stream",
     "text": [
      "In training round 0\n",
      "In training round 10\n",
      "In training round 20\n",
      "In training round 30\n",
      "In training round 40\n",
      "In training round 50\n",
      "In training round 60\n",
      "In training round 70\n",
      "In training round 80\n",
      "In training round 90\n",
      "Trained 100 rounds for a [1, 2, 3, 2, 1] network and 160 training pairs in 545.17 seconds\n",
      "0.9992276218095177\n",
      "Exceeds cost of 0.95 at training step 9\n"
     ]
    },
    {
     "data": {
      "image/png": "[encoded data removed]",
      "text/plain": [
       "<Figure size 432x288 with 1 Axes>"
      ]
     },
     "metadata": {
      "needs_background": "light"
     },
     "output_type": "display_data"
    }
   ],
   "source": [
    "network12321 = randomNetwork([1,2,3,2,1])\n",
    "trained_result = qnnTraining(network12321[0], network12321[1], trainingData, 1, 0.1, 100, 10)\n",
    "plotlist12321 = trained_result[0]\n",
    "\n",
    "for i in range(len(plotlist12321[1])):\n",
    "    if plotlist12321[1][i] >= 0.95:\n",
    "        print(\"Exceeds cost of 0.95 at training step \"+str(i))\n",
    "        break\n",
    "\n",
    "plt.plot(plotlist12321[0], plotlist12321[1])\n",
    "plt.xlabel(\"s\")\n",
    "plt.ylabel(\"Cost[s]\")\n",
    "plt.show()"
   ]
  },
  {
   "cell_type": "code",
   "execution_count": null,
   "id": "3daffad4-05b4-4d25-826f-2d5321ab6dc4",
   "metadata": {},
   "outputs": [],
   "source": [
    "R^2,MSE"
   ]
  }
 ],
 "metadata": {
  "kernelspec": {
   "display_name": "Python 3 (ipykernel)",
   "language": "python",
   "name": "python3"
  },
  "language_info": {
   "codemirror_mode": {
    "name": "ipython",
    "version": 3
   },
   "file_extension": ".py",
   "mimetype": "text/x-python",
   "name": "python",
   "nbconvert_exporter": "python",
   "pygments_lexer": "ipython3",
   "version": "3.8.15"
  }
 },
 "nbformat": 4,
 "nbformat_minor": 5
}
